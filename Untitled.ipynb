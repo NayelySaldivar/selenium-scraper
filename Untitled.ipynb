{
 "cells": [
  {
   "cell_type": "code",
   "execution_count": 37,
   "metadata": {},
   "outputs": [
    {
     "ename": "FeatureNotFound",
     "evalue": "Couldn't find a tree builder with the features you requested: lxlm. Do you need to install a parser library?",
     "output_type": "error",
     "traceback": [
      "\u001b[0;31m---------------------------------------------------------------------------\u001b[0m",
      "\u001b[0;31mFeatureNotFound\u001b[0m                           Traceback (most recent call last)",
      "\u001b[0;32m<ipython-input-37-15d6d17a33ce>\u001b[0m in \u001b[0;36m<module>\u001b[0;34m\u001b[0m\n\u001b[1;32m      3\u001b[0m \u001b[0;34m\u001b[0m\u001b[0m\n\u001b[1;32m      4\u001b[0m \u001b[0mpage\u001b[0m \u001b[0;34m=\u001b[0m \u001b[0mrequests\u001b[0m\u001b[0;34m.\u001b[0m\u001b[0mget\u001b[0m\u001b[0;34m(\u001b[0m\u001b[0;34m'https://twitter.com/search?q=%20from%3Astuka&src=typd'\u001b[0m\u001b[0;34m)\u001b[0m\u001b[0;34m\u001b[0m\u001b[0;34m\u001b[0m\u001b[0m\n\u001b[0;32m----> 5\u001b[0;31m \u001b[0msoup\u001b[0m \u001b[0;34m=\u001b[0m \u001b[0mBeautifulSoup\u001b[0m\u001b[0;34m(\u001b[0m\u001b[0mpage\u001b[0m\u001b[0;34m,\u001b[0m \u001b[0;34m'lxlm'\u001b[0m\u001b[0;34m)\u001b[0m\u001b[0;34m\u001b[0m\u001b[0;34m\u001b[0m\u001b[0m\n\u001b[0m\u001b[1;32m      6\u001b[0m \u001b[0msoup\u001b[0m\u001b[0;34m\u001b[0m\u001b[0;34m\u001b[0m\u001b[0m\n",
      "\u001b[0;32m/usr/local/lib/python3.8/dist-packages/bs4/__init__.py\u001b[0m in \u001b[0;36m__init__\u001b[0;34m(self, markup, features, builder, parse_only, from_encoding, exclude_encodings, element_classes, **kwargs)\u001b[0m\n\u001b[1;32m    241\u001b[0m             \u001b[0mbuilder_class\u001b[0m \u001b[0;34m=\u001b[0m \u001b[0mbuilder_registry\u001b[0m\u001b[0;34m.\u001b[0m\u001b[0mlookup\u001b[0m\u001b[0;34m(\u001b[0m\u001b[0;34m*\u001b[0m\u001b[0mfeatures\u001b[0m\u001b[0;34m)\u001b[0m\u001b[0;34m\u001b[0m\u001b[0;34m\u001b[0m\u001b[0m\n\u001b[1;32m    242\u001b[0m             \u001b[0;32mif\u001b[0m \u001b[0mbuilder_class\u001b[0m \u001b[0;32mis\u001b[0m \u001b[0;32mNone\u001b[0m\u001b[0;34m:\u001b[0m\u001b[0;34m\u001b[0m\u001b[0;34m\u001b[0m\u001b[0m\n\u001b[0;32m--> 243\u001b[0;31m                 raise FeatureNotFound(\n\u001b[0m\u001b[1;32m    244\u001b[0m                     \u001b[0;34m\"Couldn't find a tree builder with the features you \"\u001b[0m\u001b[0;34m\u001b[0m\u001b[0;34m\u001b[0m\u001b[0m\n\u001b[1;32m    245\u001b[0m                     \u001b[0;34m\"requested: %s. Do you need to install a parser library?\"\u001b[0m\u001b[0;34m\u001b[0m\u001b[0;34m\u001b[0m\u001b[0m\n",
      "\u001b[0;31mFeatureNotFound\u001b[0m: Couldn't find a tree builder with the features you requested: lxlm. Do you need to install a parser library?"
     ]
    }
   ],
   "source": [
    "import requests\n",
    "from bs4 import BeautifulSoup\n",
    "\n",
    "page = requests.get('https://twitter.com/search?q=%20from%3Astuka&src=typd')\n",
    "soup = BeautifulSoup(page, 'lxlm')\n",
    "soup"
   ]
  },
  {
   "cell_type": "code",
   "execution_count": 2,
   "metadata": {},
   "outputs": [
    {
     "name": "stdout",
     "output_type": "stream",
     "text": [
      "<Element html at 0x7f05db8ec2c0>\n"
     ]
    }
   ],
   "source": [
    "print(tree)"
   ]
  },
  {
   "cell_type": "code",
   "execution_count": 26,
   "metadata": {},
   "outputs": [
    {
     "data": {
      "text/plain": [
       "[]"
      ]
     },
     "execution_count": 26,
     "metadata": {},
     "output_type": "execute_result"
    }
   ],
   "source": [
    "divs = tree.xpath('//div/div/div/div/div')\n",
    "divs"
   ]
  },
  {
   "cell_type": "code",
   "execution_count": 34,
   "metadata": {},
   "outputs": [],
   "source": [
    "divs = tree.xpath('//div/div/text()')"
   ]
  },
  {
   "cell_type": "code",
   "execution_count": 35,
   "metadata": {},
   "outputs": [
    {
     "data": {
      "text/plain": [
       "[]"
      ]
     },
     "execution_count": 35,
     "metadata": {},
     "output_type": "execute_result"
    }
   ],
   "source": [
    "divs"
   ]
  },
  {
   "cell_type": "code",
   "execution_count": 21,
   "metadata": {},
   "outputs": [
    {
     "name": "stdout",
     "output_type": "stream",
     "text": [
      "\n",
      "        \n"
     ]
    }
   ],
   "source": [
    "print(divs[0])"
   ]
  },
  {
   "cell_type": "code",
   "execution_count": 41,
   "metadata": {},
   "outputs": [
    {
     "name": "stdout",
     "output_type": "stream",
     "text": [
      "b'<!DOCTYPE html>\\n<html dir=\"ltr\" lang=\"en\">\\n<meta charset=\"utf-8\" />\\n<meta name=\"viewport\" content=\"width=device-width,initial-scale=1,maximum-scale=1,user-scalable=0,viewport-fit=cover\" />\\n<link rel=\"preconnect\" href=\"//abs.twimg.com\" />\\n<link rel=\"preconnect\" href=\"//api.twitter.com\" />\\n<link rel=\"preconnect\" href=\"//pbs.twimg.com\" />\\n<link rel=\"preconnect\" href=\"//t.co\" />\\n<link rel=\"preconnect\" href=\"//video.twimg.com\" />\\n<link rel=\"dns-prefetch\" href=\"//abs.twimg.com\" />\\n<link rel=\"dns-prefetch\" href=\"//api.twitter.com\" />\\n<link rel=\"dns-prefetch\" href=\"//pbs.twimg.com\" />\\n<link rel=\"dns-prefetch\" href=\"//t.co\" />\\n<link rel=\"dns-prefetch\" href=\"//video.twimg.com\" />\\n<link rel=\"preload\" as=\"script\" crossorigin=\"anonymous\" href=\"https://abs.twimg.com/responsive-web/client-web-legacy/polyfills.808e23d5.js\" nonce=\"NjllYWM4NTUtYzExYS00OTk3LWJkYWUtYTQ4YTA1Nzg5YjAw\" />\\n<link rel=\"preload\" as=\"script\" crossorigin=\"anonymous\" href=\"https://abs.twimg.com/responsive-web/client-web-legacy/vendors~main.5ad7b9e5.js\" nonce=\"NjllYWM4NTUtYzExYS00OTk3LWJkYWUtYTQ4YTA1Nzg5YjAw\" />\\n<link rel=\"preload\" as=\"script\" crossorigin=\"anonymous\" href=\"https://abs.twimg.com/responsive-web/client-web-legacy/i18n/en.312194b5.js\" nonce=\"NjllYWM4NTUtYzExYS00OTk3LWJkYWUtYTQ4YTA1Nzg5YjAw\" />\\n<link rel=\"preload\" as=\"script\" crossorigin=\"anonymous\" href=\"https://abs.twimg.com/responsive-web/client-web-legacy/main.9d560a95.js\" nonce=\"NjllYWM4NTUtYzExYS00OTk3LWJkYWUtYTQ4YTA1Nzg5YjAw\" />\\n<meta property=\"fb:app_id\" content=\"2231777543\" />\\n<meta property=\"og:site_name\" content=\"Twitter\" />\\n<meta name=\"google-site-verification\" content=\"V0yIS0Ec_o3Ii9KThrCoMCkwTYMMJ_JYx_RSaGhFYvw\" />\\n<link rel=\"manifest\" href=\"/manifest.json\" crossOrigin=\"use-credentials\" />\\n<link rel=\"alternate\" hreflang=\"x-default\" href=\"https://twitter.com/search?q&#x3D;+from%3Astuka\" />\\n<link rel=\"alternate\" hreflang=\"ar\" href=\"https://twitter.com/search?q&#x3D;+from%3Astuka&amp;lang&#x3D;ar\" />\\n<link rel=\"alternate\" hreflang=\"bg\" href=\"https://twitter.com/search?q&#x3D;+from%3Astuka&amp;lang&#x3D;bg\" />\\n<link rel=\"alternate\" hreflang=\"bn\" href=\"https://twitter.com/search?q&#x3D;+from%3Astuka&amp;lang&#x3D;bn\" />\\n<link rel=\"alternate\" hreflang=\"ca\" href=\"https://twitter.com/search?q&#x3D;+from%3Astuka&amp;lang&#x3D;ca\" />\\n<link rel=\"alternate\" hreflang=\"cs\" href=\"https://twitter.com/search?q&#x3D;+from%3Astuka&amp;lang&#x3D;cs\" />\\n<link rel=\"alternate\" hreflang=\"da\" href=\"https://twitter.com/search?q&#x3D;+from%3Astuka&amp;lang&#x3D;da\" />\\n<link rel=\"alternate\" hreflang=\"de\" href=\"https://twitter.com/search?q&#x3D;+from%3Astuka&amp;lang&#x3D;de\" />\\n<link rel=\"alternate\" hreflang=\"el\" href=\"https://twitter.com/search?q&#x3D;+from%3Astuka&amp;lang&#x3D;el\" />\\n<link rel=\"alternate\" hreflang=\"en\" href=\"https://twitter.com/search?q&#x3D;+from%3Astuka&amp;lang&#x3D;en\" />\\n<link rel=\"alternate\" hreflang=\"en-GB\" href=\"https://twitter.com/search?q&#x3D;+from%3Astuka&amp;lang&#x3D;en-GB\" />\\n<link rel=\"alternate\" hreflang=\"es\" href=\"https://twitter.com/search?q&#x3D;+from%3Astuka&amp;lang&#x3D;es\" />\\n<link rel=\"alternate\" hreflang=\"eu\" href=\"https://twitter.com/search?q&#x3D;+from%3Astuka&amp;lang&#x3D;eu\" />\\n<link rel=\"alternate\" hreflang=\"fa\" href=\"https://twitter.com/search?q&#x3D;+from%3Astuka&amp;lang&#x3D;fa\" />\\n<link rel=\"alternate\" hreflang=\"fi\" href=\"https://twitter.com/search?q&#x3D;+from%3Astuka&amp;lang&#x3D;fi\" />\\n<link rel=\"alternate\" hreflang=\"tl\" href=\"https://twitter.com/search?q&#x3D;+from%3Astuka&amp;lang&#x3D;tl\" />\\n<link rel=\"alternate\" hreflang=\"fr\" href=\"https://twitter.com/search?q&#x3D;+from%3Astuka&amp;lang&#x3D;fr\" />\\n<link rel=\"alternate\" hreflang=\"ga\" href=\"https://twitter.com/search?q&#x3D;+from%3Astuka&amp;lang&#x3D;ga\" />\\n<link rel=\"alternate\" hreflang=\"gl\" href=\"https://twitter.com/search?q&#x3D;+from%3Astuka&amp;lang&#x3D;gl\" />\\n<link rel=\"alternate\" hreflang=\"gu\" href=\"https://twitter.com/search?q&#x3D;+from%3Astuka&amp;lang&#x3D;gu\" />\\n<link rel=\"alternate\" hreflang=\"he\" href=\"https://twitter.com/search?q&#x3D;+from%3Astuka&amp;lang&#x3D;he\" />\\n<link rel=\"alternate\" hreflang=\"hi\" href=\"https://twitter.com/search?q&#x3D;+from%3Astuka&amp;lang&#x3D;hi\" />\\n<link rel=\"alternate\" hreflang=\"hr\" href=\"https://twitter.com/search?q&#x3D;+from%3Astuka&amp;lang&#x3D;hr\" />\\n<link rel=\"alternate\" hreflang=\"hu\" href=\"https://twitter.com/search?q&#x3D;+from%3Astuka&amp;lang&#x3D;hu\" />\\n<link rel=\"alternate\" hreflang=\"id\" href=\"https://twitter.com/search?q&#x3D;+from%3Astuka&amp;lang&#x3D;id\" />\\n<link rel=\"alternate\" hreflang=\"it\" href=\"https://twitter.com/search?q&#x3D;+from%3Astuka&amp;lang&#x3D;it\" />\\n<link rel=\"alternate\" hreflang=\"ja\" href=\"https://twitter.com/search?q&#x3D;+from%3Astuka&amp;lang&#x3D;ja\" />\\n<link rel=\"alternate\" hreflang=\"kn\" href=\"https://twitter.com/search?q&#x3D;+from%3Astuka&amp;lang&#x3D;kn\" />\\n<link rel=\"alternate\" hreflang=\"ko\" href=\"https://twitter.com/search?q&#x3D;+from%3Astuka&amp;lang&#x3D;ko\" />\\n<link rel=\"alternate\" hreflang=\"mr\" href=\"https://twitter.com/search?q&#x3D;+from%3Astuka&amp;lang&#x3D;mr\" />\\n<link rel=\"alternate\" hreflang=\"ms\" href=\"https://twitter.com/search?q&#x3D;+from%3Astuka&amp;lang&#x3D;ms\" />\\n<link rel=\"alternate\" hreflang=\"nb\" href=\"https://twitter.com/search?q&#x3D;+from%3Astuka&amp;lang&#x3D;nb\" />\\n<link rel=\"alternate\" hreflang=\"nl\" href=\"https://twitter.com/search?q&#x3D;+from%3Astuka&amp;lang&#x3D;nl\" />\\n<link rel=\"alternate\" hreflang=\"pl\" href=\"https://twitter.com/search?q&#x3D;+from%3Astuka&amp;lang&#x3D;pl\" />\\n<link rel=\"alternate\" hreflang=\"pt\" href=\"https://twitter.com/search?q&#x3D;+from%3Astuka&amp;lang&#x3D;pt\" />\\n<link rel=\"alternate\" hreflang=\"ro\" href=\"https://twitter.com/search?q&#x3D;+from%3Astuka&amp;lang&#x3D;ro\" />\\n<link rel=\"alternate\" hreflang=\"ru\" href=\"https://twitter.com/search?q&#x3D;+from%3Astuka&amp;lang&#x3D;ru\" />\\n<link rel=\"alternate\" hreflang=\"sk\" href=\"https://twitter.com/search?q&#x3D;+from%3Astuka&amp;lang&#x3D;sk\" />\\n<link rel=\"alternate\" hreflang=\"sr\" href=\"https://twitter.com/search?q&#x3D;+from%3Astuka&amp;lang&#x3D;sr\" />\\n<link rel=\"alternate\" hreflang=\"sv\" href=\"https://twitter.com/search?q&#x3D;+from%3Astuka&amp;lang&#x3D;sv\" />\\n<link rel=\"alternate\" hreflang=\"ta\" href=\"https://twitter.com/search?q&#x3D;+from%3Astuka&amp;lang&#x3D;ta\" />\\n<link rel=\"alternate\" hreflang=\"th\" href=\"https://twitter.com/search?q&#x3D;+from%3Astuka&amp;lang&#x3D;th\" />\\n<link rel=\"alternate\" hreflang=\"tr\" href=\"https://twitter.com/search?q&#x3D;+from%3Astuka&amp;lang&#x3D;tr\" />\\n<link rel=\"alternate\" hreflang=\"uk\" href=\"https://twitter.com/search?q&#x3D;+from%3Astuka&amp;lang&#x3D;uk\" />\\n<link rel=\"alternate\" hreflang=\"ur\" href=\"https://twitter.com/search?q&#x3D;+from%3Astuka&amp;lang&#x3D;ur\" />\\n<link rel=\"alternate\" hreflang=\"vi\" href=\"https://twitter.com/search?q&#x3D;+from%3Astuka&amp;lang&#x3D;vi\" />\\n<link rel=\"alternate\" hreflang=\"zh\" href=\"https://twitter.com/search?q&#x3D;+from%3Astuka&amp;lang&#x3D;zh\" />\\n<link rel=\"alternate\" hreflang=\"zh-Hant\" href=\"https://twitter.com/search?q&#x3D;+from%3Astuka&amp;lang&#x3D;zh-Hant\" />\\n<link rel=\"canonical\" href=\"https://twitter.com/search?q&#x3D;+from%3astuka\" />\\n<link rel=\"search\" type=\"application/opensearchdescription+xml\" href=\"/opensearch.xml\" title=\"Twitter\">\\n<link rel=\"mask-icon\" sizes=\"any\" href=\"https://abs.twimg.com/responsive-web/client-web-legacy/icon-svg.9e211f65.svg\" color=\"#1da1f2\">\\n<link rel=\"shortcut icon\" href=\"//abs.twimg.com/favicons/twitter.ico\" type=\"image/x-icon\">\\n<link rel=\"apple-touch-icon\" sizes=\"192x192\" href=\"https://abs.twimg.com/responsive-web/client-web-legacy/icon-ios.8ea219d5.png\" />\\n<meta name=\"mobile-web-app-capable\" content=\"yes\" />\\n<meta name=\"apple-mobile-web-app-title\" content=\"Twitter\" />\\n<meta name=\"apple-mobile-web-app-status-bar-style\" content=\"white\" />\\n<meta name=\"theme-color\" content=\"#ffffff\" />\\n<meta http-equiv=\"origin-trial\" content=\"Apir4chqTX+4eFxKD+ErQlKRB/VtZ/dvnLfd9Y9Nenl5r1xJcf81alryTHYQiuUlz9Q49MqGXqyaiSmqWzHUqQwAAABneyJvcmlnaW4iOiJodHRwczovL3R3aXR0ZXIuY29tOjQ0MyIsImZlYXR1cmUiOiJDb250YWN0c01hbmFnZXIiLCJleHBpcnkiOjE1NzUwMzUyODMsImlzU3ViZG9tYWluIjp0cnVlfQ==\" />\\n\\n<style>html,body{height: 100%;}body{-ms-overflow-style:scrollbar;overflow-y:scroll;overscroll-behavior-y:none;}</style>\\n<style id=\"react-native-stylesheet\">[stylesheet-group=\"0\"]{}\\nhtml{-ms-text-size-adjust:100%;-webkit-text-size-adjust:100%;-webkit-tap-highlight-color:rgba(0,0,0,0);}\\nbody{margin:0;}\\nbutton::-moz-focus-inner,input::-moz-focus-inner{border:0;padding:0;}\\ninput::-webkit-inner-spin-button,input::-webkit-outer-spin-button,input::-webkit-search-cancel-button,input::-webkit-search-decoration,input::-webkit-search-results-button,input::-webkit-search-results-decoration{display:none;}\\n[stylesheet-group=\"0.1\"]{}\\n:focus:not([data-focusvisible-polyfill]){outline: none;}\\n[stylesheet-group=\"1\"]{}\\n.css-1dbjc4n{-ms-flex-align:stretch;-ms-flex-direction:column;-ms-flex-negative:0;-ms-flex-preferred-size:auto;-webkit-align-items:stretch;-webkit-box-align:stretch;-webkit-box-direction:normal;-webkit-box-orient:vertical;-webkit-flex-basis:auto;-webkit-flex-direction:column;-webkit-flex-shrink:0;align-items:stretch;border:0 solid black;box-sizing:border-box;display:-webkit-box;display:-moz-box;display:-ms-flexbox;display:-webkit-flex;display:flex;flex-basis:auto;flex-direction:column;flex-shrink:0;margin-bottom:0px;margin-left:0px;margin-right:0px;margin-top:0px;min-height:0px;min-width:0px;padding-bottom:0px;padding-left:0px;padding-right:0px;padding-top:0px;position:relative;z-index:0;}\\n.css-901oao{border:0 solid black;box-sizing:border-box;color:rgba(0,0,0,1.00);display:inline;font:14px -apple-system,BlinkMacSystemFont,\"Segoe UI\",Roboto,Helvetica,Arial,sans-serif;margin-bottom:0px;margin-left:0px;margin-right:0px;margin-top:0px;padding-bottom:0px;padding-left:0px;padding-right:0px;padding-top:0px;white-space:pre-wrap;word-wrap:break-word;}\\n.css-16my406{color:inherit;font:inherit;white-space:inherit;}\\n[stylesheet-group=\"2\"]{}\\n.r-13awgt0{-ms-flex:1 1 0%;-webkit-flex:1;flex:1;}\\n.r-4qtqp9{display:inline-block;}\\n.r-ywje51{margin-bottom:auto;margin-left:auto;margin-right:auto;margin-top:auto;}\\n.r-hvic4v{display:none;}\\n.r-1adg3ll{display:block;}\\n[stylesheet-group=\"2.2\"]{}\\n.r-12vffkv>*{pointer-events:auto;}\\n.r-12vffkv{pointer-events:none!important;}\\n.r-14lw9ot{background-color:rgba(255,255,255,1.00);}\\n.r-1p0dtai{bottom:0px;}\\n.r-1d2f490{left:0px;}\\n.r-1xcajam{position:fixed;}\\n.r-zchlnj{right:0px;}\\n.r-ipm5af{top:0px;}\\n.r-yyyyoo{fill:currentcolor;}\\n.r-1xvli5t{height:1.25em;}\\n.r-dnmrzs{max-width:100%;}\\n.r-bnwqim{position:relative;}\\n.r-1plcrui{vertical-align:text-bottom;}\\n.r-lrvibr{-moz-user-select:none;-ms-user-select:none;-webkit-user-select:none;user-select:none;}\\n.r-13gxpu9{color:rgba(29,161,242,1.00);}\\n.r-wy61xf{height:72px;}\\n.r-u8s1d{position:absolute;}\\n.r-1blnp2b{width:72px;}\\n.r-1ykxob0{top:60%;}\\n.r-1b2b6em{line-height:2em;}\\n.r-q4m81j{text-align:center;}</style>\\n\\n\\n<body>\\n  <noscript>\\n    <form action=\"https://mobile.twitter.com/i/nojs_router?path=%2Fsearch%3Fq%3D%2520from%253Astuka%26src%3Dtypd\" method=\"POST\" style=\"background-color: #fff; position: fixed; top: 0; left: 0; right: 0; bottom: 0; z-index: 9999;\">\\n      <div style=\"font-size: 18px; font-family: Helvetica,sans-serif; line-height: 24px; margin: 10%; width: 80%;\">\\n        <p>We\\'ve detected that JavaScript is disabled in your browser. Would you like to proceed to legacy Twitter?</p>\\n        <p style=\"margin: 20px 0;\">\\n          <button type=\"submit\" style=\"background-color: #1da1f2; border-radius: 100px; border: none; box-shadow: none; color: #fff; cursor: pointer; font-size: 14px; font-weight: bold; line-height: 20px; padding: 6px 16px;\">Yes</button>\\n        </p>\\n      </div>\\n    </form>\\n  </noscript>\\n  <div id=\"react-root\" style=\"height:100%;display:flex;\"><div class=\"css-1dbjc4n r-13awgt0 r-12vffkv\"><div class=\"css-1dbjc4n r-13awgt0 r-12vffkv\"><style>\\n          @media (prefers-color-scheme: dark) {\\n            #placeholder {\\n              background-color: #1B2836\\n            }\\n          }\\n        </style><div aria-label=\"Loading\\xe2\\x80\\xa6\" class=\"css-1dbjc4n r-14lw9ot r-1p0dtai r-1d2f490 r-1xcajam r-zchlnj r-ipm5af\" id=\"placeholder\"><svg viewBox=\"0 0 24 24\" class=\"r-1p0dtai r-13gxpu9 r-4qtqp9 r-yyyyoo r-wy61xf r-1d2f490 r-ywje51 r-dnmrzs r-u8s1d r-zchlnj r-1plcrui r-ipm5af r-lrvibr r-1blnp2b\"><g><path d=\"M23.643 4.937c-.835.37-1.732.62-2.675.733.962-.576 1.7-1.49 2.048-2.578-.9.534-1.897.922-2.958 1.13-.85-.904-2.06-1.47-3.4-1.47-2.572 0-4.658 2.086-4.658 4.66 0 .364.042.718.12 1.06-3.873-.195-7.304-2.05-9.602-4.868-.4.69-.63 1.49-.63 2.342 0 1.616.823 3.043 2.072 3.878-.764-.025-1.482-.234-2.11-.583v.06c0 2.257 1.605 4.14 3.737 4.568-.392.106-.803.162-1.227.162-.3 0-.593-.028-.877-.082.593 1.85 2.313 3.198 4.352 3.234-1.595 1.25-3.604 1.995-5.786 1.995-.376 0-.747-.022-1.112-.065 2.062 1.323 4.51 2.093 7.14 2.093 8.57 0 13.255-7.098 13.255-13.254 0-.2-.005-.402-.014-.602.91-.658 1.7-1.477 2.323-2.41z\"></path></g></svg></div><div class=\"css-1dbjc4n r-hvic4v r-1d2f490 r-1xcajam r-zchlnj r-1ykxob0\" id=\"ScriptLoadFailure\"><form action=\"\" method=\"GET\"><div dir=\"auto\" class=\"css-901oao r-1adg3ll r-1b2b6em r-q4m81j\"><span class=\"css-901oao css-16my406\">Something went wrong, but don\\xe2\\x80\\x99t fret \\xe2\\x80\\x94 let\\xe2\\x80\\x99s give it another shot.</span><br/><input type=\"hidden\" name=\"failedScript\" value=\"\"/><input type=\"submit\" value=\"Try again\"/></div></form></div></div></div></div>\\n<script nonce=\"NjllYWM4NTUtYzExYS00OTk3LWJkYWUtYTQ4YTA1Nzg5YjAw\">\\nwindow.__INITIAL_STATE__ = {\"optimist\":[],\"featureSwitch\":{\"config\":{\"2fa_multikey_management_enabled\":{\"value\":false},\"account_country_setting_countries_whitelist\":{\"value\":[\"ad\",\"ae\",\"af\",\"ag\",\"ai\",\"al\",\"am\",\"ao\",\"ar\",\"as\",\"at\",\"au\",\"aw\",\"ax\",\"az\",\"ba\",\"bb\",\"bd\",\"be\",\"bf\",\"bg\",\"bh\",\"bi\",\"bj\",\"bl\",\"bm\",\"bn\",\"bo\",\"bq\",\"br\",\"bs\",\"bt\",\"bv\",\"bw\",\"by\",\"bz\",\"ca\",\"cc\",\"cd\",\"cf\",\"cg\",\"ch\",\"ci\",\"ck\",\"cl\",\"cm\",\"co\",\"cr\",\"cu\",\"cv\",\"cw\",\"cx\",\"cy\",\"cz\",\"de\",\"dj\",\"dk\",\"dm\",\"do\",\"dz\",\"ec\",\"ee\",\"eg\",\"er\",\"es\",\"et\",\"fi\",\"fj\",\"fk\",\"fm\",\"fo\",\"fr\",\"ga\",\"gb\",\"gd\",\"ge\",\"gf\",\"gg\",\"gh\",\"gi\",\"gl\",\"gm\",\"gn\",\"gp\",\"gq\",\"gr\",\"gs\",\"gt\",\"gu\",\"gw\",\"gy\",\"hk\",\"hn\",\"hr\",\"ht\",\"hu\",\"id\",\"ie\",\"il\",\"im\",\"in\",\"io\",\"iq\",\"ir\",\"is\",\"it\",\"je\",\"jm\",\"jo\",\"jp\",\"ke\",\"kg\",\"kh\",\"ki\",\"km\",\"kn\",\"kr\",\"kw\",\"ky\",\"kz\",\"la\",\"lb\",\"lc\",\"li\",\"lk\",\"lr\",\"ls\",\"lt\",\"lu\",\"lv\",\"ly\",\"ma\",\"mc\",\"md\",\"me\",\"mf\",\"mg\",\"mh\",\"mk\",\"ml\",\"mn\",\"mo\",\"mp\",\"mq\",\"mr\",\"ms\",\"mt\",\"mu\",\"mv\",\"mw\",\"mx\",\"my\",\"mz\",\"na\",\"nc\",\"ne\",\"nf\",\"ng\",\"ni\",\"nl\",\"no\",\"np\",\"nr\",\"nu\",\"nz\",\"om\",\"pa\",\"pe\",\"pf\",\"pg\",\"ph\",\"pk\",\"pl\",\"pm\",\"pn\",\"pr\",\"ps\",\"pt\",\"pw\",\"py\",\"qa\",\"re\",\"ro\",\"rs\",\"ru\",\"rw\",\"sa\",\"sb\",\"sc\",\"se\",\"sg\",\"sh\",\"si\",\"sk\",\"sl\",\"sm\",\"sn\",\"so\",\"sr\",\"st\",\"sv\",\"sx\",\"sz\",\"tc\",\"td\",\"tf\",\"tg\",\"th\",\"tj\",\"tk\",\"tl\",\"tm\",\"tn\",\"to\",\"tr\",\"tt\",\"tv\",\"tw\",\"tz\",\"ua\",\"ug\",\"us\",\"uy\",\"uz\",\"va\",\"vc\",\"ve\",\"vi\",\"vn\",\"vu\",\"wf\",\"ws\",\"xk\",\"ye\",\"yt\",\"za\",\"zm\",\"zw\"]},\"author_moderated_replies_urt_container_enabled\":{\"value\":false},\"content_language_setting_enabled\":{\"value\":true},\"conversation_controls_flexible_participation_enabled\":{\"value\":false},\"conversation_controls_flexible_participation_reply_enabled\":{\"value\":true},\"conversation_controls_limited_replies_consumption_configuration\":{\"value\":\"no_reply\"},\"conversation_controls_limited_replies_creation_enabled\":{\"value\":true},\"conversation_controls_notifying_participants_enabled\":{\"value\":true},\"dm_conversations_muting_enabled\":{\"value\":false},\"dm_conversations_nsfw_media_filter_enabled\":{\"value\":false},\"dm_reactions_config_active_reactions\":{\"value\":[\"\\xf0\\x9f\\x98\\x82:funny\",\"\\xf0\\x9f\\x98\\xb2:surprised\",\"\\xf0\\x9f\\x98\\xa2:sad\",\"\\xe2\\x9d\\xa4:like\",\"\\xf0\\x9f\\x94\\xa5:excited\",\"\\xf0\\x9f\\x91\\x8d:agree\",\"\\xf0\\x9f\\x91\\x8e:disagree\"]},\"dm_reactions_config_inactive_reactions\":{\"value\":[\"\\xf0\\x9f\\x98\\xa0:angry\",\"\\xf0\\x9f\\x98\\xb7:mask\"]},\"dm_voice_rendering_enabled\":{\"value\":true},\"employee_role\":{\"value\":false},\"explore_settings_trends_policy_url\":{\"value\":\"\"},\"guest_broadcasting_timeline_decorations_enabled\":{\"value\":true},\"hashflags_animation_like_button_enabled\":{\"value\":true},\"home_timeline_latest_timeline_autoswitch_half_life_minutes\":{\"value\":43200},\"home_timeline_latest_timeline_autoswitch_threshold_multiplier\":{\"value\":2},\"home_timeline_latest_timeline_max_time_to_autoswitch_minutes\":{\"value\":5256000},\"home_timeline_latest_timeline_min_time_to_autoswitch_minutes\":{\"value\":5256000},\"home_timeline_latest_timeline_switch_enabled\":{\"value\":true},\"home_timeline_latest_timeline_threshold_to_increase_autoswitch_seconds\":{\"value\":60},\"home_timeline_spheres_copy_variant\":{\"value\":\"list_follow\"},\"home_timeline_spheres_custom_banner_image_reads_enabled\":{\"value\":true},\"home_timeline_spheres_detail_page_muting_enabled\":{\"value\":true},\"home_timeline_spheres_list_cell_thumbnail_enabled\":{\"value\":true},\"home_timeline_spheres_max_user_owned_or_subscribed_lists_count\":{\"value\":5},\"home_timeline_spheres_ranking_mode_control_enabled\":{\"value\":true},\"identity_verification_debadging_notification_enabled\":{\"value\":false},\"identity_verification_intake_enabled\":{\"value\":false},\"list_management_page_urt_timeline_enabled\":{\"value\":false},\"live_event_docking_enabled\":{\"value\":true},\"live_event_extra_attribution_enabled\":{\"value\":false},\"live_event_multi_video_auto_advance_dock_enabled\":{\"value\":true},\"live_event_multi_video_auto_advance_enabled\":{\"value\":true},\"live_event_multi_video_auto_advance_fullscreen_enabled\":{\"value\":false},\"live_event_multi_video_auto_advance_transition_duration_seconds\":{\"value\":5},\"live_event_multi_video_enabled\":{\"value\":true},\"live_event_timeline_default_refresh_rate_interval_seconds\":{\"value\":30},\"live_event_timeline_minimum_refresh_rate_interval_seconds\":{\"value\":10},\"live_event_timeline_server_controlled_refresh_rate_enabled\":{\"value\":true},\"livepipeline_client_enabled\":{\"value\":true},\"livepipeline_dm_features_enabled\":{\"value\":true},\"livepipeline_tweetengagement_enabled\":{\"value\":true},\"moment_annotations_enabled\":{\"value\":true},\"network_layer_503_backoff_mode\":{\"value\":\"host\"},\"project_friday_enabled\":{\"value\":true},\"responsive_web_alt_svc\":{\"value\":false},\"responsive_web_alt_text_badge_enabled\":{\"value\":false},\"responsive_web_api_transition_enabled\":{\"value\":false},\"responsive_web_auto_logout_multiaccount_enabled\":{\"value\":true},\"responsive_web_auto_logout_restrictedauthtoken_enabled\":{\"value\":true},\"responsive_web_auto_logout_twid_enabled\":{\"value\":true},\"responsive_web_birdwatch_consumption_enabled\":{\"value\":false},\"responsive_web_birdwatch_contribution_enabled\":{\"value\":false},\"responsive_web_birdwatch_hcomp_user\":{\"value\":false},\"responsive_web_branch_cpid_enabled\":{\"value\":true},\"responsive_web_branch_sdk_enabled\":{\"value\":true},\"responsive_web_card_preload_mode\":{\"value\":\"prerender\"},\"responsive_web_carousels_convert_to_single_media\":{\"value\":false},\"responsive_web_check_browser_support_enabled\":{\"value\":true},\"responsive_web_cleanup_macaw_swift_indexed_db\":{\"value\":true},\"responsive_web_constrained_viewport_enabled\":{\"value\":false},\"responsive_web_continue_as_always_enabled\":{\"value\":false},\"responsive_web_continue_as_param_enabled\":{\"value\":true},\"responsive_web_conversation_tree_enabled\":{\"value\":false},\"responsive_web_conversation_tree_toggle\":{\"value\":false},\"responsive_web_csrf_clientside_enabled\":{\"value\":true},\"responsive_web_dcm_2_enabled\":{\"value\":true},\"responsive_web_dm_health_inbox_request_cell_social_proof_enabled\":{\"value\":false},\"responsive_web_dm_health_settings_update\":{\"value\":true},\"responsive_web_dm_health_snooze_rename\":{\"value\":true},\"responsive_web_dm_quick_access_enabled\":{\"value\":true},\"responsive_web_dm_quick_access_no_empty_drawer_enabled\":{\"value\":true},\"responsive_web_dm_quick_access_with_close_enabled\":{\"value\":false},\"responsive_web_eu_compliance_double_click_disabled\":{\"value\":false},\"responsive_web_eu_compliance_ga_disabled\":{\"value\":false},\"responsive_web_eu_compliance_player_card_disabled\":{\"value\":false},\"responsive_web_eu_compliance_sentry_disabled\":{\"value\":false},\"responsive_web_eu_countries\":{\"value\":[\"at\",\"be\",\"bg\",\"ch\",\"cy\",\"cz\",\"de\",\"dk\",\"ee\",\"es\",\"fi\",\"fr\",\"gb\",\"gr\",\"hr\",\"hu\",\"ie\",\"is\",\"it\",\"li\",\"lt\",\"lu\",\"lv\",\"mt\",\"nl\",\"no\",\"pl\",\"pt\",\"ro\",\"se\",\"si\",\"sk\"]},\"responsive_web_events_page_horizon_video_enabled\":{\"value\":true},\"responsive_web_extension_compatibility_hide\":{\"value\":false},\"responsive_web_extension_compatibility_impression_guard\":{\"value\":true},\"responsive_web_extension_compatibility_override_param\":{\"value\":false},\"responsive_web_extension_compatibility_scribe\":{\"value\":true},\"responsive_web_extension_compatibility_size_threshold\":{\"value\":50},\"responsive_web_fake_root_twitter_domain_for_testing\":{\"value\":false},\"responsive_web_fetch_hashflags_on_boot\":{\"value\":true},\"responsive_web_fleets_dm_consumption_enabled\":{\"value\":false},\"responsive_web_fleets_notification_screen_enabled\":{\"value\":false},\"responsive_web_fleets_viewer_screen_enabled\":{\"value\":false},\"responsive_web_framerate_tracking_home_enabled\":{\"value\":false},\"responsive_web_graphql_amr_timeline\":{\"value\":false},\"responsive_web_graphql_bookmarks\":{\"value\":false},\"responsive_web_graphql_conversations_enabled\":{\"value\":false},\"responsive_web_graphql_dark_reads_probability\":{\"value\":0},\"responsive_web_graphql_liked_by\":{\"value\":true},\"responsive_web_graphql_likes_timeline\":{\"value\":false},\"responsive_web_graphql_list_crud\":{\"value\":true},\"responsive_web_graphql_list_management_timelines_enabled\":{\"value\":false},\"responsive_web_graphql_list_members_subscribers_enabled\":{\"value\":false},\"responsive_web_graphql_list_operations\":{\"value\":false},\"responsive_web_graphql_redux_module_users\":{\"value\":false},\"responsive_web_graphql_retweeted_by\":{\"value\":true},\"responsive_web_graphql_rux_landing_enabled\":{\"value\":false},\"responsive_web_graphql_tweet_results\":{\"value\":false},\"responsive_web_graphql_user_by_rest_id\":{\"value\":false},\"responsive_web_graphql_user_profile_screen\":{\"value\":false},\"responsive_web_graphql_user_results\":{\"value\":false},\"responsive_web_graphql_users_by_rest_ids\":{\"value\":false},\"responsive_web_guest_token_reporting\":{\"value\":true},\"responsive_web_hoisting_anchor_invalidation_enabled\":{\"value\":false},\"responsive_web_horizon_video_player_enabled\":{\"value\":true},\"responsive_web_hover_on_mousemove_enabled\":{\"value\":false},\"responsive_web_html_archive_renderer_enabled\":{\"value\":true},\"responsive_web_inline_reply_enabled\":{\"value\":false},\"responsive_web_inline_reply_with_fab_enabled\":{\"value\":false},\"responsive_web_instream_video_redesign_enabled\":{\"value\":false},\"responsive_web_list_hover_cards_enabled\":{\"value\":true},\"responsive_web_live_video_parity_periscope_auth_enabled\":{\"value\":false},\"responsive_web_login_input_type_email_enabled\":{\"value\":false},\"responsive_web_login_signup_sheet_app_install_cta_enabled\":{\"value\":true},\"responsive_web_media_upload_limit_2g\":{\"value\":250},\"responsive_web_media_upload_limit_3g\":{\"value\":1500},\"responsive_web_media_upload_limit_slow_2g\":{\"value\":150},\"responsive_web_media_upload_md5_hashing_enabled\":{\"value\":false},\"responsive_web_media_upload_target_jpg_pixels_per_byte\":{\"value\":6},\"responsive_web_menu_section_divider_enabled\":{\"value\":false},\"responsive_web_modal_close_enabled\":{\"value\":false},\"responsive_web_moment_maker_annotations_enabled\":{\"value\":false},\"responsive_web_moment_maker_enabled\":{\"value\":false},\"responsive_web_multiple_account_limit\":{\"value\":5},\"responsive_web_mute_unmute_toast_with_user_screen_name_enabled\":{\"value\":true},\"responsive_web_new_client_events_enabled\":{\"value\":false},\"responsive_web_not_my_account_screen_enabled\":{\"value\":true},\"responsive_web_ntab_verified_mentions_vit_internal_dogfood\":{\"value\":false},\"responsive_web_ocf_sms_autoverify_enabled\":{\"value\":true},\"responsive_web_prerolls_fullscreen_disabled_on_ios\":{\"value\":false},\"responsive_web_promoted_tweet_param_append_enabled\":{\"value\":true},\"responsive_web_promoted_tweet_url_rewrite_enabled\":{\"value\":false},\"responsive_web_quick_promote_enabled\":{\"value\":false},\"responsive_web_redirect_to_app_enabled\":{\"value\":false},\"responsive_web_report_page_not_found\":{\"value\":false},\"responsive_web_rich_tweet_landing_enabled\":{\"value\":true},\"responsive_web_scroller_autopoll_enabled\":{\"value\":false},\"responsive_web_scroller_v3_enabled\":{\"value\":false},\"responsive_web_search_dms_enabled\":{\"value\":true},\"responsive_web_second_degree_replies_nudge_force_enabled\":{\"value\":false},\"responsive_web_second_degree_replies_nudge_get_enabled\":{\"value\":false},\"responsive_web_second_degree_replies_nudge_show_enabled\":{\"value\":false},\"responsive_web_segmented_control_v2_enabled\":{\"value\":true},\"responsive_web_serviceworker_safari_disabled\":{\"value\":false},\"responsive_web_settings_revamp_enabled\":{\"value\":false},\"responsive_web_settings_timeline_polling_enabled\":{\"value\":false},\"responsive_web_settings_timeline_polling_interval_ms\":{\"value\":0},\"responsive_web_settings_timeline_refresh_background_interval\":{\"value\":0},\"responsive_web_settings_timeline_refresh_enabled\":{\"value\":false},\"responsive_web_settings_timeline_refresh_instant_default\":{\"value\":true},\"responsive_web_sports_carousel\":{\"value\":false},\"responsive_web_trends_setting_new_endpoints\":{\"value\":true},\"responsive_web_trigger_test_backoff_on_bookmark\":{\"value\":false},\"responsive_web_tweets_pill_local_enabled\":{\"value\":true},\"responsive_web_unsupported_entry_tombstone\":{\"value\":false},\"responsive_web_use_app_prompt_copy_variant\":{\"value\":\"prompt_better\"},\"responsive_web_use_app_prompt_enabled\":{\"value\":true},\"responsive_web_verification_v2_enabled\":{\"value\":true},\"responsive_web_video_pcomplete_enabled\":{\"value\":true},\"responsive_web_video_promoted_logging_enabled\":{\"value\":true},\"responsive_web_vod_muted_captions_enabled\":{\"value\":true},\"responsive_web_vs_config_desktop_assumed_item_height\":{\"value\":100},\"responsive_web_vs_config_resize_observer_enabled\":{\"value\":true},\"responsive_web_zipkin_api_requests_enabled\":{\"value\":false},\"responsive_web_zipkin_api_requests_paths_allowlist\":{\"value\":[\"/2/timeline/home.json\"]},\"scribe_api_error_sample_size\":{\"value\":0},\"scribe_api_sample_size\":{\"value\":100},\"scribe_cdn_host_list\":{\"value\":[\"si0.twimg.com\",\"si1.twimg.com\",\"si2.twimg.com\",\"si3.twimg.com\",\"a0.twimg.com\",\"a1.twimg.com\",\"a2.twimg.com\",\"a3.twimg.com\",\"abs.twimg.com\",\"amp.twimg.com\",\"o.twimg.com\",\"pbs.twimg.com\",\"pbs-eb.twimg.com\",\"pbs-ec.twimg.com\",\"pbs-v6.twimg.com\",\"pbs-h1.twimg.com\",\"pbs-h2.twimg.com\",\"video.twimg.com\",\"platform.twitter.com\",\"cdn.api.twitter.com\",\"ton.twimg.com\",\"v.cdn.vine.co\",\"mtc.cdn.vine.co\",\"edge.vncdn.co\",\"mid.vncdn.co\"]},\"scribe_cdn_sample_size\":{\"value\":50},\"search_channels_description_enabled\":{\"value\":true},\"search_channels_discovery_page_enabled\":{\"value\":false},\"soft_interventions_like_nudge_enabled\":{\"value\":false},\"soft_interventions_retweet_nudge_enabled\":{\"value\":true},\"topic_landing_page_enabled\":{\"value\":true},\"topic_landing_page_share_enabled\":{\"value\":true},\"topics_discovery_page_enabled\":{\"value\":false},\"topics_new_social_context_bottom_border_enabled\":{\"value\":true},\"topics_new_social_context_enabled\":{\"value\":true},\"topics_new_social_context_icon_color_enabled\":{\"value\":false},\"topics_peek_home_enabled\":{\"value\":false},\"topics_peek_search_enabled\":{\"value\":false},\"topics_tweet_details_recommended_topic_context_enabled\":{\"value\":false},\"traffic_rewrite_map\":{\"value\":[]},\"tweet_limited_actions_config_enabled\":{\"value\":true},\"tweet_limited_actions_config_non_compliant\":{\"value\":[\"reply\",\"retweet\",\"like\",\"send_via_dm\",\"add_to_bookmarks\",\"add_to_moment\",\"pin_to_profile\",\"view_tweet_activity\",\"share_tweet_via\"]},\"unified_cards_cta_color_blue_cta\":{\"value\":true},\"user_display_name_max_limit\":{\"value\":50},\"voice_consumption_enabled\":{\"value\":false},\"web_video_bitrate_persistence_enabled\":{\"value\":false},\"web_video_hls_android_mse_enabled\":{\"value\":true},\"web_video_hls_mp4_threshold_sec\":{\"value\":0},\"web_video_hlsjs_version\":{\"value\":\"\"}},\"debug\":{},\"impression_pointers\":{\"responsive_web_ocf_sms_autoverify_enabled\":[\"onboarding_chrome_sms_autoverify_9851\"]},\"impressions\":{\"onboarding_chrome_sms_autoverify_9851\":{\"key\":\"onboarding_chrome_sms_autoverify_9851\",\"bucket\":\"treatment\",\"version\":7}},\"featureSetToken\":\"822e367f61504f9ee6d7c4c9cd74d2a1286d5aa1\",\"isLoaded\":true,\"isLoading\":false,\"keysRead\":{},\"settingsVersion\":\"c656e7e40aeff7667cd22e1dc4d79007\"},\"toasts\":[],\"entities\":{\"users\":{\"entities\":{},\"errors\":{},\"fetchStatus\":{}},\"tweets\":{\"entities\":{},\"errors\":{},\"fetchStatus\":{}},\"cards\":{\"entities\":{},\"errors\":{},\"fetchStatus\":{}}},\"session\":{\"country\":\"MX\",\"emailLiteLoginEligibility\":{\"fetchStatus\":\"none\"},\"guestId\":\"160541891067815581\",\"language\":\"en\",\"oneFactorLoginEligibility\":{\"fetchStatus\":\"none\"}},\"typeaheadUsers\":{\"fetchStatus\":\"none\",\"users\":{},\"denylist\":{},\"lastUpdated\":0,\"index\":{}},\"settings\":{\"local\":{\"nextPushCheckin\":0,\"shouldAutoPlayGif\":false,\"scale\":\"normal\",\"themeColor\":\"blue\",\"highContrastEnabled\":false,\"themeBackground\":\"light\",\"loginPromptLastShown\":0,\"reducedMotionEnabled\":false,\"conversationTreeEnabled\":false,\"showTweetMediaDetailDrawer\":true,\"autoPollNewTweets\":false},\"remote\":{\"settings\":{\"display_sensitive_media\":false},\"fetchStatus\":\"none\"},\"dataSaver\":{\"dataSaverMode\":false},\"transient\":{\"dtabBarInfo\":{\"hide\":false},\"loginPromptShown\":false,\"lastViewedDmInboxPath\":\"/messages\",\"themeFocus\":\"\"}},\"devices\":{\"browserPush\":{\"fetchStatus\":\"none\",\"pushNotificationsPrompt\":{\"dismissed\":false,\"fetchStatus\":\"none\"},\"subscribed\":false,\"supported\":null},\"devices\":{\"data\":{\"emails\":[],\"phone_numbers\":[]},\"fetchStatus\":\"none\"},\"notificationSettings\":{\"push_settings\":{\"error\":null,\"fetchStatus\":\"none\"},\"push_settings_template\":{\"template\":{\"settings\":[]}},\"sms_settings\":{\"error\":null,\"fetchStatus\":\"none\"},\"sms_settings_template\":{\"template\":{\"settings\":[]}},\"checkin_time\":null}},\"urt\":{},\"hashflags\":{\"fetchStatus\":\"none\",\"hashflags\":{}}};\\nwindow.__META_DATA__ = {\"env\":\"prod\",\"isFromDynamicRenderer\":false,\"isLoggedIn\":false,\"isRTL\":false,\"hasMultiAccountCookie\":false,\"uaParserTags\":[\"m2\",\"rweb_unsupported\",\"msw\"],\"serverDate\":1605418910726,\"sha\":\"97abc174ebeac049584a39ccfcf831c083b3817b\"};\\n</script>\\n<script type=\"text/javascript\" charset=\"utf-8\" nonce=\"NjllYWM4NTUtYzExYS00OTk3LWJkYWUtYTQ4YTA1Nzg5YjAw\">\\n  window.__SCRIPTS_LOADED__ = {};\\n  !function(e){function n(n){for(var o,t,i=n[0],l=n[1],c=n[2],s=0,b=[];s<i.length;s++)t=i[s],Object.prototype.hasOwnProperty.call(a,t)&&a[t]&&b.push(a[t][0]),a[t]=0;for(o in l)Object.prototype.hasOwnProperty.call(l,o)&&(e[o]=l[o]);for(u&&u(n);b.length;)b.shift()();return r.push.apply(r,c||[]),d()}function d(){for(var e,n=0;n<r.length;n++){for(var d=r[n],o=!0,i=1;i<d.length;i++){var l=d[i];0!==a[l]&&(o=!1)}o&&(r.splice(n--,1),e=t(t.s=d[0]))}return e}var o={},a={1:0},r=[];function t(n){if(o[n])return o[n].exports;var d=o[n]={i:n,l:!1,exports:{}};return e[n].call(d.exports,d,d.exports,t),d.l=!0,d.exports}t.e=function(e){var n=[],d=a[e];if(0!==d)if(d)n.push(d[2]);else{var o=new Promise((function(n,o){d=a[e]=[n,o]}));n.push(d[2]=o);var r,i=document.createElement(\"script\");i.charset=\"utf-8\",i.timeout=120,t.nc&&i.setAttribute(\"nonce\",t.nc),i.src=function(e){return t.p+\"\"+({0:\"sharedCore\",3:\"shared~loader.DMDrawer~bundle.Compose~bundle.RichTextCompose~bundle.DirectMessages~bundle.DMRichTextCompose~b\",4:\"shared~bundle.Settings~ondemand.SettingsInternals~bundle.SettingsTransparency~bundle.SettingsRevamp~ondemand.\",5:\"shared~bundle.ComposeMedia~bundle.Ocf~bundle.SettingsProfile~bundle.UserLists\",6:\"shared~bundle.Compose~bundle.RichTextCompose~ondemand.ComposeScheduling~bundle.PlainTextCompose\",7:\"shared~bundle.MultiAccount~bundle.Login~bundle.LoggedOutHome~ondemand.IntentPrompt\",8:\"shared~bundle.Settings~ondemand.SettingsInternals~bundle.SettingsTransparency~bundle.SettingsRevamp\",9:\"shared~bundle.DirectMessages~bundle.TweetMediaDetail~bundle.UserAvatar\",10:\"shared~bundle.Place~bundle.Search~bundle.QuoteTweetActivity\",11:\"shared~bundle.RichTextCompose~bundle.DMRichTextCompose~ondemand.RichText\",12:\"shared~loader.DMDrawer~bundle.DirectMessages~bundle.DMRichTextCompose\",13:\"shared~bundle.Compose~bundle.PlainTextCompose\",14:\"shared~bundle.Display~bundle.Settings\",15:\"shared~bundle.Explore~loader.ExploreSidebar\",16:\"shared~bundle.LiveEvent~bundle.UserMoments\",17:\"shared~bundle.Ocf~bundle.SettingsProfile\",18:\"shared~bundle.TopicPeek~ondemand.EmojiPicker\",19:\"shared~loader.DashMenu~bundle.Account\",20:\"shared~loader.Typeahead~bundle.UserLists\",21:\"shared~loaders.video.VideoPlayerDefaultUI~loaders.video.VideoPlayerEventsUI\",22:\"shared~ondemand.EmojiPickerData~ondemand.EmojiPicker\",23:\"shared~ondemand.GraphQLModule~ondemand.UserProfileGraphQL\",24:\"shared~ondemand.InlinePlayer~loader.AudioOnlyVideoPlayer\",25:\"shared~ondemand.SettingsInternals~ondemand.SettingsRevamp\",26:\"bundle.AboutThisAd\",27:\"bundle.Account\",28:\"bundle.AdvancedSearch\",29:\"bundle.Birdwatch\",30:\"bundle.Bookmarks\",31:\"bundle.Collection\",32:\"bundle.Compose\",33:\"bundle.ComposeMedia\",34:\"bundle.ConnectTab\",35:\"bundle.Conversation\",36:\"bundle.ConversationParticipants\",37:\"bundle.DMRichTextCompose\",38:\"bundle.DirectMessages\",39:\"bundle.Display\",40:\"bundle.Download\",41:\"bundle.Explore\",42:\"bundle.ExploreTopics\",43:\"bundle.FleetsNotification\",44:\"bundle.FollowerRequests\",45:\"bundle.GenericTimeline\",46:\"bundle.GifSearch\",47:\"bundle.HomeTimeline\",48:\"bundle.KeyboardShortcuts\",49:\"bundle.LiveEvent\",50:\"bundle.LoggedOutHome\",51:\"bundle.Login\",52:\"bundle.Logout\",53:\"bundle.Moment\",54:\"bundle.MomentMaker\",55:\"bundle.MultiAccount\",56:\"bundle.NetworkInstrument\",57:\"bundle.NewsLanding\",58:\"bundle.NotMyAccount\",59:\"bundle.NotificationDetail\",60:\"bundle.Notifications\",61:\"bundle.Ocf\",62:\"bundle.Place\",63:\"bundle.PlainTextCompose\",64:\"bundle.ProfileRedirect\",65:\"bundle.QuoteTweetActivity\",66:\"bundle.Report\",67:\"bundle.RichTextCompose\",68:\"bundle.Search\",69:\"bundle.Settings\",70:\"bundle.SettingsInternals\",71:\"bundle.SettingsProfile\",72:\"bundle.SettingsRevamp\",73:\"bundle.SettingsTransparency\",74:\"bundle.SmsLogin\",75:\"bundle.TopicPeek\",76:\"bundle.Topics\",77:\"bundle.Trends\",78:\"bundle.TweetActivity\",79:\"bundle.TweetMediaDetail\",80:\"bundle.TweetMediaTags\",81:\"bundle.Twitterversary\",82:\"bundle.UserAvatar\",83:\"bundle.UserFollowLists\",84:\"bundle.UserLists\",85:\"bundle.UserMoments\",86:\"bundle.UserProfile\",87:\"bundle.UserRedirect\",137:\"loader.AbsolutePower\",138:\"loader.AppModules\",139:\"loader.AudioOnlyVideoPlayer\",140:\"loader.DMDrawer\",141:\"loader.DashMenu\",142:\"loader.ExploreSidebar\",143:\"loader.FeedbackSheet\",144:\"loader.FeedbackTombstone\",145:\"loader.HWCard\",146:\"loader.NewTweetsPill\",147:\"loader.PeriscopeOverlay\",148:\"loader.ProfileClusterFollow\",149:\"loader.PushNotificationsPrompt\",150:\"loader.SideNav\",151:\"loader.SignupModule\",152:\"loader.TimelineRenderer\",153:\"loader.TweetCurationActionMenu\",154:\"loader.Typeahead\",155:\"loader.WideLayout\",156:\"loader.directMessagesData\",157:\"loader.graphQLDarkReads\",158:\"loader.personalizationData\",159:\"loaders.video.PlayerBase\",160:\"loaders.video.PlayerHls13\",161:\"loaders.video.PlayerUi\",162:\"loaders.video.VideoPlayerDefaultUI\",163:\"loaders.video.VideoPlayerEventsUI\",165:\"ondemand.Balloons\",166:\"ondemand.BranchSdk\",167:\"ondemand.CarouselScroller\",168:\"ondemand.ComposeScheduling\",169:\"ondemand.Dropdown\",170:\"ondemand.EditBirthdate\",171:\"ondemand.EditPinned\",172:\"ondemand.EmojiPicker\",173:\"ondemand.FleetMediaDetail\",174:\"ondemand.GraphQLModule\",175:\"ondemand.HoverCard\",176:\"ondemand.InlinePlayer\",177:\"ondemand.IntentPrompt\",178:\"ondemand.LottieWeb\",179:\"ondemand.MicrosoftInterface\",180:\"ondemand.ProfileSidebar\",181:\"ondemand.RichText\",182:\"ondemand.SettingsInternals\",183:\"ondemand.SettingsRevamp\",184:\"ondemand.UserProfileGraphQL\",185:\"ondemand.countries-ar\",186:\"ondemand.countries-bg\",187:\"ondemand.countries-bn\",188:\"ondemand.countries-ca\",189:\"ondemand.countries-cs\",190:\"ondemand.countries-da\",191:\"ondemand.countries-de\",192:\"ondemand.countries-el\",193:\"ondemand.countries-en\",194:\"ondemand.countries-en-GB\",195:\"ondemand.countries-es\",196:\"ondemand.countries-eu\",197:\"ondemand.countries-fa\",198:\"ondemand.countries-fi\",199:\"ondemand.countries-fil\",200:\"ondemand.countries-fr\",201:\"ondemand.countries-ga\",202:\"ondemand.countries-gl\",203:\"ondemand.countries-gu\",204:\"ondemand.countries-he\",205:\"ondemand.countries-hi\",206:\"ondemand.countries-hr\",207:\"ondemand.countries-hu\",208:\"ondemand.countries-id\",209:\"ondemand.countries-it\",210:\"ondemand.countries-ja\",211:\"ondemand.countries-kn\",212:\"ondemand.countries-ko\",213:\"ondemand.countries-mr\",214:\"ondemand.countries-ms\",215:\"ondemand.countries-nb\",216:\"ondemand.countries-nl\",217:\"ondemand.countries-pl\",218:\"ondemand.countries-pt\",219:\"ondemand.countries-ro\",220:\"ondemand.countries-ru\",221:\"ondemand.countries-sk\",222:\"ondemand.countries-sr\",223:\"ondemand.countries-sv\",224:\"ondemand.countries-ta\",225:\"ondemand.countries-th\",226:\"ondemand.countries-tr\",227:\"ondemand.countries-uk\",228:\"ondemand.countries-ur\",229:\"ondemand.countries-zh\",230:\"ondemand.countries-zh-Hant\",231:\"ondemand.emoji.ar\",232:\"ondemand.emoji.bg\",233:\"ondemand.emoji.bn\",234:\"ondemand.emoji.ca\",235:\"ondemand.emoji.cs\",236:\"ondemand.emoji.da\",237:\"ondemand.emoji.de\",238:\"ondemand.emoji.el\",239:\"ondemand.emoji.en\",240:\"ondemand.emoji.en-GB\",241:\"ondemand.emoji.en-ss\",242:\"ondemand.emoji.en-xx\",243:\"ondemand.emoji.es\",244:\"ondemand.emoji.eu\",245:\"ondemand.emoji.fa\",246:\"ondemand.emoji.fi\",247:\"ondemand.emoji.fil\",248:\"ondemand.emoji.fr\",249:\"ondemand.emoji.ga\",250:\"ondemand.emoji.gl\",251:\"ondemand.emoji.gu\",252:\"ondemand.emoji.he\",253:\"ondemand.emoji.hi\",254:\"ondemand.emoji.hr\",255:\"ondemand.emoji.hu\",256:\"ondemand.emoji.id\",257:\"ondemand.emoji.it\",258:\"ondemand.emoji.ja\",259:\"ondemand.emoji.kn\",260:\"ondemand.emoji.ko\",261:\"ondemand.emoji.mr\",262:\"ondemand.emoji.ms\",263:\"ondemand.emoji.nb\",264:\"ondemand.emoji.nl\",265:\"ondemand.emoji.pl\",266:\"ondemand.emoji.pt\",267:\"ondemand.emoji.ro\",268:\"ondemand.emoji.ru\",269:\"ondemand.emoji.sk\",270:\"ondemand.emoji.sr\",271:\"ondemand.emoji.sv\",272:\"ondemand.emoji.ta\",273:\"ondemand.emoji.th\",274:\"ondemand.emoji.tr\",275:\"ondemand.emoji.uk\",276:\"ondemand.emoji.ur\",277:\"ondemand.emoji.vi\",278:\"ondemand.emoji.zh\",279:\"ondemand.emoji.zh-Hant\",280:\"ondemand.framerateTracking\",281:\"ondemand.video.PlayerHls12\"}[e]||e)+\".\"+{0:\"10f71eb\",3:\"0d6b888\",4:\"a196e07\",5:\"3110611\",6:\"26a655a\",7:\"43b7a9e\",8:\"5375757\",9:\"f31a606\",10:\"085c50f\",11:\"ce90fb3\",12:\"f664bd2\",13:\"1fdbd9b\",14:\"8f9f0d2\",15:\"58b7bd0\",16:\"f4ef451\",17:\"b840854\",18:\"47c67b7\",19:\"30a049b\",20:\"2085083\",21:\"191ef07\",22:\"82d5a2d\",23:\"0671b47\",24:\"cfa5293\",25:\"0309b24\",26:\"aa8bade\",27:\"2ce97b6\",28:\"7ba25b6\",29:\"2dcbd8f\",30:\"d2b8960\",31:\"5413b5c\",32:\"7be5575\",33:\"3c6490f\",34:\"3eaafcc\",35:\"17423dc\",36:\"c0b4fcf\",37:\"b7f78ef\",38:\"7de5ed6\",39:\"73dbb14\",40:\"c3afeb3\",41:\"24c06a4\",42:\"8a8e672\",43:\"4196726\",44:\"2b641b8\",45:\"61f7d0d\",46:\"c73d8f3\",47:\"9e3a983\",48:\"883c249\",49:\"8e70cf7\",50:\"32ea65d\",51:\"e848518\",52:\"4662166\",53:\"71c4e79\",54:\"d4cf0ef\",55:\"f7eeb09\",56:\"0cc7020\",57:\"7dd0e99\",58:\"85823c5\",59:\"52facee\",60:\"c24729c\",61:\"e691d29\",62:\"d9db76b\",63:\"9ca5317\",64:\"e7d7776\",65:\"1f5ef3c\",66:\"60c68d5\",67:\"94355cf\",68:\"aa25bd6\",69:\"8b7023b\",70:\"9e0c115\",71:\"8823d83\",72:\"588359e\",73:\"03fb12d\",74:\"37ec7fe\",75:\"708e714\",76:\"778b4fd\",77:\"94aeb7e\",78:\"c0d4978\",79:\"0f28218\",80:\"7743a5f\",81:\"c6937b0\",82:\"243dece\",83:\"5a9d321\",84:\"914460e\",85:\"d4f3ff1\",86:\"73d3e08\",87:\"12fc48f\",137:\"40c5f9f\",138:\"48a312b\",139:\"b32a556\",140:\"a7bed06\",141:\"39a1870\",142:\"5a00a71\",143:\"0c8652d\",144:\"8d0f7fe\",145:\"5c6f0a5\",146:\"92f93c1\",147:\"95d2588\",148:\"53bb8ef\",149:\"89a28e8\",150:\"4c35800\",151:\"eb83e6b\",152:\"cf797c6\",153:\"8ec1188\",154:\"ccd9fea\",155:\"f4b2a53\",156:\"d8a3f72\",157:\"d04c3f8\",158:\"1b85425\",159:\"fe78e82\",160:\"0dfa345\",161:\"6954276\",162:\"aa8b93a\",163:\"597b043\",165:\"73ff190\",166:\"3ffc3a6\",167:\"9620901\",168:\"2f48740\",169:\"a8adaf2\",170:\"fa1cd6a\",171:\"97bbcbb\",172:\"be1a97e\",173:\"9274e9a\",174:\"7717110\",175:\"51b9cbf\",176:\"935ec05\",177:\"cc610f9\",178:\"1a59b15\",179:\"1e7f105\",180:\"9092df9\",181:\"85afe17\",182:\"18db4b3\",183:\"f213fcc\",184:\"ef4ee45\",185:\"f8878d5\",186:\"d2a9642\",187:\"04be7de\",188:\"b1a7ca9\",189:\"222b84a\",190:\"3cbfafe\",191:\"93e6716\",192:\"dff98fc\",193:\"18104ee\",194:\"1a7d6a6\",195:\"fb06503\",196:\"d7f6d2b\",197:\"c1a7a0f\",198:\"123c4de\",199:\"63fe2b9\",200:\"9a25956\",201:\"a4c9c92\",202:\"bddfcb7\",203:\"bc17b42\",204:\"e21d7d8\",205:\"6f99727\",206:\"3a41bc4\",207:\"0ed015c\",208:\"3325c63\",209:\"9e9457a\",210:\"23c97b7\",211:\"9ac7db0\",212:\"b5195fa\",213:\"fc268e0\",214:\"f7ab6e9\",215:\"821a7dd\",216:\"aa54b9a\",217:\"94ed511\",218:\"61bcb3c\",219:\"2157c23\",220:\"1f5c701\",221:\"f3da6f9\",222:\"fb65261\",223:\"14a9b67\",224:\"c49fb14\",225:\"357792e\",226:\"c5a0f06\",227:\"b38be31\",228:\"39fd072\",229:\"527f663\",230:\"39019bf\",231:\"0dd037a\",232:\"15f91bc\",233:\"4290c77\",234:\"db1495b\",235:\"6751de9\",236:\"e3d50d5\",237:\"1fb7021\",238:\"cf50df6\",239:\"568db91\",240:\"05a0177\",241:\"a78c0e0\",242:\"90d2dd7\",243:\"a68ebfd\",244:\"52d3103\",245:\"b93e413\",246:\"64e118a\",247:\"7570732\",248:\"aeb2ff3\",249:\"366d6fd\",250:\"b3e091e\",251:\"643bd3d\",252:\"d81ad50\",253:\"c4b62b6\",254:\"5694835\",255:\"ce60124\",256:\"aaa8e8a\",257:\"bb000b3\",258:\"34e4124\",259:\"25078cd\",260:\"33969a3\",261:\"2ba80a4\",262:\"0da75bd\",263:\"22ba98e\",264:\"ac3e786\",265:\"b4ed73e\",266:\"ce9a2f4\",267:\"8cf3702\",268:\"1360375\",269:\"9908374\",270:\"b7bbe96\",271:\"8a0ef40\",272:\"d1e9743\",273:\"5f6c5bf\",274:\"e2f0e30\",275:\"888819d\",276:\"96aaca7\",277:\"4ca042f\",278:\"68cf669\",279:\"a073525\",280:\"95bb048\",281:\"4a09612\"}[e]+\"5.js\"}(e);var l=new Error;r=function(n){i.onerror=i.onload=null,clearTimeout(c);var d=a[e];if(0!==d){if(d){var o=n&&(\"load\"===n.type?\"missing\":n.type),r=n&&n.target&&n.target.src;l.message=\"Loading chunk \"+e+\" failed.\\\\n(\"+o+\": \"+r+\")\",l.name=\"ChunkLoadError\",l.type=o,l.request=r,d[1](l)}a[e]=void 0}};var c=setTimeout((function(){r({type:\"timeout\",target:i})}),12e4);i.onerror=i.onload=r,document.head.appendChild(i)}return Promise.all(n)},t.m=e,t.c=o,t.d=function(e,n,d){t.o(e,n)||Object.defineProperty(e,n,{enumerable:!0,get:d})},t.r=function(e){\"undefined\"!=typeof Symbol&&Symbol.toStringTag&&Object.defineProperty(e,Symbol.toStringTag,{value:\"Module\"}),Object.defineProperty(e,\"__esModule\",{value:!0})},t.t=function(e,n){if(1&n&&(e=t(e)),8&n)return e;if(4&n&&\"object\"==typeof e&&e&&e.__esModule)return e;var d=Object.create(null);if(t.r(d),Object.defineProperty(d,\"default\",{enumerable:!0,value:e}),2&n&&\"string\"!=typeof e)for(var o in e)t.d(d,o,function(n){return e[n]}.bind(null,o));return d},t.n=function(e){var n=e&&e.__esModule?function(){return e.default}:function(){return e};return t.d(n,\"a\",n),n},t.o=function(e,n){return Object.prototype.hasOwnProperty.call(e,n)},t.p=\"https://abs.twimg.com/responsive-web/client-web-legacy/\",t.oe=function(e){throw e};var i=window.webpackJsonp=window.webpackJsonp||[],l=i.push.bind(i);i.push=n,i=i.slice();for(var c=0;c<i.length;c++)n(i[c]);var u=l;d()}([]),window.__SCRIPTS_LOADED__.runtime=!0;\\n//# sourceMappingURL=https://ton.twitter.com/responsive-web-internal/sourcemaps/client-web-legacy/runtime.4b8631b5.js.map\\n</script>\\n<script type=\"text/javascript\" charset=\"utf-8\" nonce=\"NjllYWM4NTUtYzExYS00OTk3LWJkYWUtYTQ4YTA1Nzg5YjAw\" crossorigin=\"anonymous\" src=\"https://abs.twimg.com/responsive-web/client-web-legacy/polyfills.808e23d5.js\"></script>\\n<script type=\"text/javascript\" charset=\"utf-8\" nonce=\"NjllYWM4NTUtYzExYS00OTk3LWJkYWUtYTQ4YTA1Nzg5YjAw\" crossorigin=\"anonymous\" src=\"https://abs.twimg.com/responsive-web/client-web-legacy/vendors~main.5ad7b9e5.js\"></script>\\n<script type=\"text/javascript\" charset=\"utf-8\" nonce=\"NjllYWM4NTUtYzExYS00OTk3LWJkYWUtYTQ4YTA1Nzg5YjAw\" crossorigin=\"anonymous\" src=\"https://abs.twimg.com/responsive-web/client-web-legacy/i18n/en.312194b5.js\"></script>\\n<script type=\"text/javascript\" charset=\"utf-8\" nonce=\"NjllYWM4NTUtYzExYS00OTk3LWJkYWUtYTQ4YTA1Nzg5YjAw\" crossorigin=\"anonymous\" src=\"https://abs.twimg.com/responsive-web/client-web-legacy/main.9d560a95.js\"></script>\\n<script nonce=\"NjllYWM4NTUtYzExYS00OTk3LWJkYWUtYTQ4YTA1Nzg5YjAw\">\\n  (function () {\\n    if (!window.__SCRIPTS_LOADED__[\\'main\\']) {\\n      document.getElementById(\\'ScriptLoadFailure\\').style.display = \\'block\\';\\n      var criticalScripts = \\'polyfills,vendors~main,i18n,main\\'.split(\\',\\');\\n      var i;\\n      for (i = 0; i < criticalScripts.length; i++) {\\n        var criticalScript = criticalScripts[i];\\n        if (!window.__SCRIPTS_LOADED__[criticalScript]) {\\n          document.getElementsByName(\\'failedScript\\')[0].value = criticalScript\\n          break;\\n        }\\n      }\\n    }\\n  })();\\n</script>\\n<script nonce=\"NjllYWM4NTUtYzExYS00OTk3LWJkYWUtYTQ4YTA1Nzg5YjAw\">\\ndocument.cookie = decodeURIComponent(\"gt=1327849269274042368; Max-Age=10800; Domain=.twitter.com; Path=/; Secure\");\\n</script>'\n"
     ]
    }
   ],
   "source": [
    "import urllib\n",
    "\n",
    "link = 'https://twitter.com/search?q=%20from%3Astuka&src=typd'\n",
    "f = urllib.request.urlopen(link)\n",
    "my_file = f.read()\n",
    "#print(my_file)"
   ]
  },
  {
   "cell_type": "code",
   "execution_count": 45,
   "metadata": {},
   "outputs": [
    {
     "name": "stdout",
     "output_type": "stream",
     "text": [
      "<selenium.webdriver.firefox.webelement.FirefoxWebElement (session=\"4a40c100-8223-4975-8338-da24db5f9c9a\", element=\"00ac4870-dfb3-4750-868b-c196d15691bb\")>\n"
     ]
    }
   ],
   "source": [
    "from selenium import webdriver\n",
    "from selenium.webdriver.common.keys import Keys\n",
    "\n",
    "driver = webdriver.Firefox()\n",
    "driver.get(\"http://www.python.org\")\n",
    "assert \"Login\" in driver.title\n",
    "elem = driver.find_element_by_name(\"q\")\n",
    "elem.clear()\n",
    "elem.send_keys(\"pycon\")\n",
    "elem.send_keys(Keys.RETURN)\n",
    "assert \"No results found.\" not in driver.page_source\n",
    "\n",
    "el = driver.findElements(By.cssSelector(\"div.myclass\"));\n",
    "text = el.getAttribute(\"textContent\")\n",
    "\n",
    "titulo = driver.find_element_by_css_selector('h3')\n",
    "print(titulo)\n",
    "driver.close()"
   ]
  },
  {
   "cell_type": "code",
   "execution_count": 47,
   "metadata": {},
   "outputs": [],
   "source": [
    "driver = webdriver.Firefox()\n",
    "driver.get('https://forums.edmunds.com/discussion/2864/general/x/entry-level-luxury-performance-sedans/p702')\n",
    "\n",
    "\n",
    "el = driver.findElements(By.cssSelector(\"div.myclass\"));\n",
    "text = el.getAttribute(\"textContent\")\n",
    "\n",
    "\n",
    "fb fc fd ar fe ff fg fh fi fj fk fl fm fn fo fp fq fr fs ft fu fv fw fx fy fz ga"
   ]
  },
  {
   "cell_type": "code",
   "execution_count": 50,
   "metadata": {},
   "outputs": [
    {
     "name": "stdout",
     "output_type": "stream",
     "text": [
      "Brokerage Account\n",
      "Brokerage Account\n"
     ]
    }
   ],
   "source": [
    "#options = Options()\n",
    "#options.add_argument(\"--headless\")\n",
    "#options.add_argument(\"window-size=1024,960\")\n",
    "browser = webdriver.Firefox()\n",
    "#--| Parse or automation\n",
    "browser.get('file:///home/urdaibayc/Proyectos/Ironhack/1-extraction-transformation/Projects/scraper/chiqutibum/local.html')\n",
    "text = browser.find_element_by_class_name('explorer__titlesegment').text\n",
    "text_selector = browser.find_elements_by_css_selector('body > span')[0].text\n",
    "print(text)\n",
    "print(text_selector)"
   ]
  },
  {
   "cell_type": "code",
   "execution_count": 58,
   "metadata": {},
   "outputs": [],
   "source": [
    "import pprint\n",
    "browser = webdriver.Firefox()\n",
    "#--| Parse or automation\n",
    "browser.get('https://en.wikipedia.org/wiki/Walt_Disney')\n",
    "#text = browser.find_element_by_class_name('firstHeading').text\n",
    "#text_selector = browser.find_elements_by_css_selector('body > span')[0].text\n",
    "elements = browser.find_elements_by_tag_name(\"h1\") \n",
    "#print(text)\n",
    "print(elements[0])"
   ]
  },
  {
   "cell_type": "code",
   "execution_count": 82,
   "metadata": {},
   "outputs": [
    {
     "name": "stdout",
     "output_type": "stream",
     "text": [
      "1 Biography\n",
      "1.1 Early life: 1901–1920\n",
      "1.2 Early career: 1920–1928\n",
      "1.3 Creation of Mickey Mouse to the first Academy Awards: 1928–1933\n",
      "1.4 Golden age of animation: 1934–1941\n",
      "1.5 World War II and beyond: 1941–1950\n",
      "1.6 Theme parks, television and other interests: 1950–1966\n",
      "1.7 Illness, death and aftermath\n"
     ]
    }
   ],
   "source": [
    "elements = browser.find_element_by_class_name(\"toclevel-1\")\n",
    "elements"
   ]
  },
  {
   "cell_type": "code",
   "execution_count": 109,
   "metadata": {
    "scrolled": false
   },
   "outputs": [
    {
     "data": {
      "text/plain": [
       "['Early life: 1901–1920',\n",
       " 'Early career: 1920–1928',\n",
       " 'Creation of Mickey Mouse to the first Academy Awards: 1928–1933',\n",
       " 'Golden age of animation: 1934–1941',\n",
       " 'World War II and beyond: 1941–1950',\n",
       " 'Theme parks, television and other interests: 1950–1966',\n",
       " 'Illness, death and aftermath']"
      ]
     },
     "execution_count": 109,
     "metadata": {},
     "output_type": "execute_result"
    }
   ],
   "source": [
    "login_form = browser.find_elements_by_xpath(\"//li[1]/ul/li/a/span[@class='toctext']\")\n",
    "[e.text for e in login_form]"
   ]
  },
  {
   "cell_type": "code",
   "execution_count": 90,
   "metadata": {},
   "outputs": [
    {
     "ename": "NoSuchElementException",
     "evalue": "Message: Unable to locate element: //li/li\n",
     "output_type": "error",
     "traceback": [
      "\u001b[0;31m--------------------------------------\u001b[0m",
      "\u001b[0;31mNoSuchElementException\u001b[0mTraceback (most recent call last)",
      "\u001b[0;32m<ipython-input-90-4620dc70a3f3>\u001b[0m in \u001b[0;36m<module>\u001b[0;34m\u001b[0m\n\u001b[0;32m----> 1\u001b[0;31m \u001b[0mlogin_form\u001b[0m \u001b[0;34m=\u001b[0m \u001b[0mbrowser\u001b[0m\u001b[0;34m.\u001b[0m\u001b[0mfind_element_by_xpath\u001b[0m\u001b[0;34m(\u001b[0m\u001b[0;34m\"//li/li\"\u001b[0m\u001b[0;34m)\u001b[0m\u001b[0;34m\u001b[0m\u001b[0;34m\u001b[0m\u001b[0m\n\u001b[0m\u001b[1;32m      2\u001b[0m \u001b[0mlogin_form\u001b[0m\u001b[0;34m\u001b[0m\u001b[0;34m\u001b[0m\u001b[0m\n",
      "\u001b[0;32m/usr/local/lib/python3.8/dist-packages/selenium/webdriver/remote/webdriver.py\u001b[0m in \u001b[0;36mfind_element_by_xpath\u001b[0;34m(self, xpath)\u001b[0m\n\u001b[1;32m    392\u001b[0m             \u001b[0melement\u001b[0m \u001b[0;34m=\u001b[0m \u001b[0mdriver\u001b[0m\u001b[0;34m.\u001b[0m\u001b[0mfind_element_by_xpath\u001b[0m\u001b[0;34m(\u001b[0m\u001b[0;34m'//div/td[1]'\u001b[0m\u001b[0;34m)\u001b[0m\u001b[0;34m\u001b[0m\u001b[0;34m\u001b[0m\u001b[0m\n\u001b[1;32m    393\u001b[0m         \"\"\"\n\u001b[0;32m--> 394\u001b[0;31m         \u001b[0;32mreturn\u001b[0m \u001b[0mself\u001b[0m\u001b[0;34m.\u001b[0m\u001b[0mfind_element\u001b[0m\u001b[0;34m(\u001b[0m\u001b[0mby\u001b[0m\u001b[0;34m=\u001b[0m\u001b[0mBy\u001b[0m\u001b[0;34m.\u001b[0m\u001b[0mXPATH\u001b[0m\u001b[0;34m,\u001b[0m \u001b[0mvalue\u001b[0m\u001b[0;34m=\u001b[0m\u001b[0mxpath\u001b[0m\u001b[0;34m)\u001b[0m\u001b[0;34m\u001b[0m\u001b[0;34m\u001b[0m\u001b[0m\n\u001b[0m\u001b[1;32m    395\u001b[0m \u001b[0;34m\u001b[0m\u001b[0m\n\u001b[1;32m    396\u001b[0m     \u001b[0;32mdef\u001b[0m \u001b[0mfind_elements_by_xpath\u001b[0m\u001b[0;34m(\u001b[0m\u001b[0mself\u001b[0m\u001b[0;34m,\u001b[0m \u001b[0mxpath\u001b[0m\u001b[0;34m)\u001b[0m\u001b[0;34m:\u001b[0m\u001b[0;34m\u001b[0m\u001b[0;34m\u001b[0m\u001b[0m\n",
      "\u001b[0;32m/usr/local/lib/python3.8/dist-packages/selenium/webdriver/remote/webdriver.py\u001b[0m in \u001b[0;36mfind_element\u001b[0;34m(self, by, value)\u001b[0m\n\u001b[1;32m    974\u001b[0m                 \u001b[0mby\u001b[0m \u001b[0;34m=\u001b[0m \u001b[0mBy\u001b[0m\u001b[0;34m.\u001b[0m\u001b[0mCSS_SELECTOR\u001b[0m\u001b[0;34m\u001b[0m\u001b[0;34m\u001b[0m\u001b[0m\n\u001b[1;32m    975\u001b[0m                 \u001b[0mvalue\u001b[0m \u001b[0;34m=\u001b[0m \u001b[0;34m'[name=\"%s\"]'\u001b[0m \u001b[0;34m%\u001b[0m \u001b[0mvalue\u001b[0m\u001b[0;34m\u001b[0m\u001b[0;34m\u001b[0m\u001b[0m\n\u001b[0;32m--> 976\u001b[0;31m         return self.execute(Command.FIND_ELEMENT, {\n\u001b[0m\u001b[1;32m    977\u001b[0m             \u001b[0;34m'using'\u001b[0m\u001b[0;34m:\u001b[0m \u001b[0mby\u001b[0m\u001b[0;34m,\u001b[0m\u001b[0;34m\u001b[0m\u001b[0;34m\u001b[0m\u001b[0m\n\u001b[1;32m    978\u001b[0m             'value': value})['value']\n",
      "\u001b[0;32m/usr/local/lib/python3.8/dist-packages/selenium/webdriver/remote/webdriver.py\u001b[0m in \u001b[0;36mexecute\u001b[0;34m(self, driver_command, params)\u001b[0m\n\u001b[1;32m    319\u001b[0m         \u001b[0mresponse\u001b[0m \u001b[0;34m=\u001b[0m \u001b[0mself\u001b[0m\u001b[0;34m.\u001b[0m\u001b[0mcommand_executor\u001b[0m\u001b[0;34m.\u001b[0m\u001b[0mexecute\u001b[0m\u001b[0;34m(\u001b[0m\u001b[0mdriver_command\u001b[0m\u001b[0;34m,\u001b[0m \u001b[0mparams\u001b[0m\u001b[0;34m)\u001b[0m\u001b[0;34m\u001b[0m\u001b[0;34m\u001b[0m\u001b[0m\n\u001b[1;32m    320\u001b[0m         \u001b[0;32mif\u001b[0m \u001b[0mresponse\u001b[0m\u001b[0;34m:\u001b[0m\u001b[0;34m\u001b[0m\u001b[0;34m\u001b[0m\u001b[0m\n\u001b[0;32m--> 321\u001b[0;31m             \u001b[0mself\u001b[0m\u001b[0;34m.\u001b[0m\u001b[0merror_handler\u001b[0m\u001b[0;34m.\u001b[0m\u001b[0mcheck_response\u001b[0m\u001b[0;34m(\u001b[0m\u001b[0mresponse\u001b[0m\u001b[0;34m)\u001b[0m\u001b[0;34m\u001b[0m\u001b[0;34m\u001b[0m\u001b[0m\n\u001b[0m\u001b[1;32m    322\u001b[0m             response['value'] = self._unwrap_value(\n\u001b[1;32m    323\u001b[0m                 response.get('value', None))\n",
      "\u001b[0;32m/usr/local/lib/python3.8/dist-packages/selenium/webdriver/remote/errorhandler.py\u001b[0m in \u001b[0;36mcheck_response\u001b[0;34m(self, response)\u001b[0m\n\u001b[1;32m    240\u001b[0m                 \u001b[0malert_text\u001b[0m \u001b[0;34m=\u001b[0m \u001b[0mvalue\u001b[0m\u001b[0;34m[\u001b[0m\u001b[0;34m'alert'\u001b[0m\u001b[0;34m]\u001b[0m\u001b[0;34m.\u001b[0m\u001b[0mget\u001b[0m\u001b[0;34m(\u001b[0m\u001b[0;34m'text'\u001b[0m\u001b[0;34m)\u001b[0m\u001b[0;34m\u001b[0m\u001b[0;34m\u001b[0m\u001b[0m\n\u001b[1;32m    241\u001b[0m             \u001b[0;32mraise\u001b[0m \u001b[0mexception_class\u001b[0m\u001b[0;34m(\u001b[0m\u001b[0mmessage\u001b[0m\u001b[0;34m,\u001b[0m \u001b[0mscreen\u001b[0m\u001b[0;34m,\u001b[0m \u001b[0mstacktrace\u001b[0m\u001b[0;34m,\u001b[0m \u001b[0malert_text\u001b[0m\u001b[0;34m)\u001b[0m\u001b[0;34m\u001b[0m\u001b[0;34m\u001b[0m\u001b[0m\n\u001b[0;32m--> 242\u001b[0;31m         \u001b[0;32mraise\u001b[0m \u001b[0mexception_class\u001b[0m\u001b[0;34m(\u001b[0m\u001b[0mmessage\u001b[0m\u001b[0;34m,\u001b[0m \u001b[0mscreen\u001b[0m\u001b[0;34m,\u001b[0m \u001b[0mstacktrace\u001b[0m\u001b[0;34m)\u001b[0m\u001b[0;34m\u001b[0m\u001b[0;34m\u001b[0m\u001b[0m\n\u001b[0m\u001b[1;32m    243\u001b[0m \u001b[0;34m\u001b[0m\u001b[0m\n\u001b[1;32m    244\u001b[0m     \u001b[0;32mdef\u001b[0m \u001b[0m_value_or_default\u001b[0m\u001b[0;34m(\u001b[0m\u001b[0mself\u001b[0m\u001b[0;34m,\u001b[0m \u001b[0mobj\u001b[0m\u001b[0;34m,\u001b[0m \u001b[0mkey\u001b[0m\u001b[0;34m,\u001b[0m \u001b[0mdefault\u001b[0m\u001b[0;34m)\u001b[0m\u001b[0;34m:\u001b[0m\u001b[0;34m\u001b[0m\u001b[0;34m\u001b[0m\u001b[0m\n",
      "\u001b[0;31mNoSuchElementException\u001b[0m: Message: Unable to locate element: //li/li\n"
     ]
    }
   ],
   "source": [
    "login_form = browser.find_element_by_xpath(\"//li/ul\")\n",
    "login_form\n"
   ]
  },
  {
   "cell_type": "code",
   "execution_count": 188,
   "metadata": {},
   "outputs": [],
   "source": [
    "browser = webdriver.Firefox()\n",
    "#--| Parse or automation\n",
    "browser.get('https://twitter.com/home')\n"
   ]
  },
  {
   "cell_type": "code",
   "execution_count": 189,
   "metadata": {},
   "outputs": [],
   "source": []
  },
  {
   "cell_type": "code",
   "execution_count": 169,
   "metadata": {},
   "outputs": [],
   "source": [
    "url = '/html/body/div/div/div/div[2]/main/div/div/div/div[1]/div/div[2]/div/section/div/div/div[2]/div/div/article/div/div/div/div[3]/div[2]/div/div'"
   ]
  },
  {
   "cell_type": "code",
   "execution_count": 170,
   "metadata": {},
   "outputs": [
    {
     "data": {
      "text/plain": [
       "[]"
      ]
     },
     "execution_count": 170,
     "metadata": {},
     "output_type": "execute_result"
    }
   ],
   "source": [
    "elem = browser.find_elements_by_xpath(url)\n",
    "[e.text for e in elem]"
   ]
  },
  {
   "cell_type": "code",
   "execution_count": 165,
   "metadata": {},
   "outputs": [],
   "source": [
    "url = '/html/body/div/div/div/div[2]/main/div/div/div/div[1]/div/div[4]/div/div/section/div/div/div[1]/div/div/article/'"
   ]
  },
  {
   "cell_type": "code",
   "execution_count": 166,
   "metadata": {},
   "outputs": [
    {
     "data": {
      "text/plain": [
       "[\"Michael Mina\\n@michaelmina_lab\\n·\\n3min\\nAgree w this thread from \\n@mlipsitch\\nThough I think unreasonable to ask ppl to make these choices w/out seeing a pos test. Most ppl are simply too confused by it all\\n\\nWe need simple rapid testing in the home - frequently to catch before transmitting\\n\\nI don’t see a better solution\\nMarc Lipsitch\\n@mlipsitch\\n · 17h\\nFrom giving advice recently to a friend who was symptomatic, got tested and was told to expect a 3-5d delay, I've come to realize a gap in our prevention approach. The advice on preventing transmission if you are infected is mainly provided through contact tracing.\\nMostrar este hilo\\n1\\n5\\n17\"]"
      ]
     },
     "execution_count": 166,
     "metadata": {},
     "output_type": "execute_result"
    }
   ],
   "source": [
    "elem = browser.find_elements_by_xpath(url)\n",
    "[e.text for e in elem]"
   ]
  },
  {
   "cell_type": "code",
   "execution_count": 171,
   "metadata": {},
   "outputs": [],
   "source": [
    "url = '/html/body/div/div/div/div[2]/main/div/div/div/div[1]/div/div[4]/div/div/section/div/div/div[2]/div/div/article/div/div/div/div[2]/div[2]/div[2]/div[1]/div/span'"
   ]
  },
  {
   "cell_type": "code",
   "execution_count": 172,
   "metadata": {},
   "outputs": [
    {
     "data": {
      "text/plain": [
       "[\"China's education system leaves little time to develop interpersonal skills, so people, desperate for advice on how to sell themselves, turn to self-help books instead\"]"
      ]
     },
     "execution_count": 172,
     "metadata": {},
     "output_type": "execute_result"
    }
   ],
   "source": [
    "elem = browser.find_elements_by_xpath(url)\n",
    "[e.text for e in elem]"
   ]
  },
  {
   "cell_type": "code",
   "execution_count": 173,
   "metadata": {},
   "outputs": [],
   "source": [
    "url = '/html/body/div/div/div/div[2]/main/div/div/div/div[1]/div/div[4]/div/div/section/div/div/div[4]/div/div/article/div/div/div/div[2]/div[2]/div[2]/div[1]/div/span'"
   ]
  },
  {
   "cell_type": "code",
   "execution_count": 174,
   "metadata": {},
   "outputs": [
    {
     "data": {
      "text/plain": [
       "[\"It should be every car driver's dream to have better public transportation. Imagine all the cars no long being stuck in traffic in front of you!\"]"
      ]
     },
     "execution_count": 174,
     "metadata": {},
     "output_type": "execute_result"
    }
   ],
   "source": [
    "elem = browser.find_elements_by_xpath(url)\n",
    "[e.text for e in elem]"
   ]
  },
  {
   "cell_type": "markdown",
   "metadata": {},
   "source": [
    "#Nuevo Mundo#, chiquitibun \n",
    "#tupapa"
   ]
  },
  {
   "cell_type": "code",
   "execution_count": 199,
   "metadata": {},
   "outputs": [],
   "source": [
    "browser = webdriver.Firefox()\n",
    "#--| Parse or automation\n",
    "browser.get('https://twitter.com/home')\n"
   ]
  },
  {
   "cell_type": "code",
   "execution_count": 200,
   "metadata": {},
   "outputs": [],
   "source": [
    "usr = \"\"\n",
    "pwd = \"\"\n",
    "\n",
    "elem = browser.find_element_by_xpath(\"/html/body/div/div/div/div[2]/main/div/div/div[1]/form/div/div[1]/label/div/div[2]/div/input\")\n",
    "elem2 = browser.find_element_by_xpath(\"/html/body/div/div/div/div[2]/main/div/div/div[1]/form/div/div[2]/label/div/div[2]/div/input\")\n",
    "#elem.text\n",
    "#[e.text for e in elem]\n",
    "#elem.clear()\n",
    "elem.send_keys(usr)\n",
    "elem2.send_keys(pwd)\n",
    "elem.send_keys(Keys.RETURN)"
   ]
  },
  {
   "cell_type": "code",
   "execution_count": 201,
   "metadata": {},
   "outputs": [],
   "source": [
    "url = '//article'"
   ]
  },
  {
   "cell_type": "code",
   "execution_count": 202,
   "metadata": {},
   "outputs": [
    {
     "data": {
      "text/plain": [
       "7"
      ]
     },
     "execution_count": 202,
     "metadata": {},
     "output_type": "execute_result"
    }
   ],
   "source": [
    "elem = browser.find_elements_by_xpath(url)\n",
    "#[e.text for e in elem]\n",
    "#elem[5].text\n",
    "len(elem)"
   ]
  },
  {
   "cell_type": "code",
   "execution_count": 203,
   "metadata": {},
   "outputs": [
    {
     "data": {
      "text/plain": [
       "['Joe Burridge retwitteó\\nChainbrain\\n@xChainbrain\\n·\\n12 nov.\\nI took the advice Twitch gave and muted my Rocksmith game audio\\n\\nSounds pretty good I think! You also get a more realistic sweaty metalhead experience!\\n0:19\\n146,6 mil reproducciones\\n182\\n2,3 mil\\n8,9 mil\\nMostrar este hilo',\n",
       " 'Don Winslow retwitteó\\nWill McCrabb\\n@mccrabb_will\\n·\\n29 oct.\\nThe ending of Raiders of the Lost Ark\\nWithout visual effects\\n4\\n18\\n113',\n",
       " \"The Economist\\n@TheEconomist\\n·\\n3min\\nAmericans' tendency to sort themselves into politically like-minded communities has two major consequences\\nOur analysis of the election results suggests that 2020 accelerated a long-running trend\\nAmerican politics is even more split along urban-rural lines than it was four years ago\\neconomist.com\\n9\\n14\\n23\",\n",
       " 'Don Winslow retwitteó\\nKatharina Borchert\\n@lyssaslounge\\n·\\n8min\\nThis is an excellent thread about the dangerous failure of Sweden‘s herd immunity #COVID19 strategy. (Looking at you, Trumpists.)\\nEric Feigl-Ding\\n@DrEricDing\\n · 8h\\nSweden’s \\n pro-herd govt official Tegnk was DEAD wrong. With deadly consequences. He predicted Sweden’s spring wave would prevent 2nd #COVID19 fall/winter wave. He was ‘Scott Atlas-wrong’. “Herd immunity” arrogance costs lives. How arrogant was Tegnell?\\n https://businessinsider.com/sweden-herd-immunity-second-wave-coronavirus-cases-hospitalisations-surge-2020-11…\\nMostrar este hilo\\n2\\n82\\n166',\n",
       " 'Open Data Science\\n@odsc\\n·\\n9min\\nODSC APAC 2020 Virtual Conference Keynote Speaker: https://hubs.ly/H0zrVz10 #ODSCAPAC #ODSCVirtual \\n@TobyWalsh\\n @UNSW\\n1',\n",
       " 'Don Winslow\\n@donwinslow\\n·\\n9min\\nTrump Has Reportedly Been Asking About Pardons for Himself, His Family, and More https://complex.com/life/2020/11/trump-has-been-asking-about-pardons-for-himself-his-family?soc_src=social-sh&soc_trk=tw&tsrc=twtr… via \\n@Yahoo\\nTrump Has Reportedly Been Asking About Pardons for Himself, His Family, and More\\nThe idea of Donald J. Trump pardoning himself, however, is not a constitutionally supported idea. But we should know by now that such a thing rarely stops him.\\ncomplex.com\\n67\\n126\\n353',\n",
       " 'Cultura Colectiva\\n@CulturaColectiv\\n·\\n14min\\n¿Quieres ser parte de la primera #PijamadaCCLifestyle?  \\nHabrá muchas sorpresas, invitados y ¡regalos! Corre a https://cutt.ly/jg010sl y descubre cómo ganar tu boleto.\\n4']"
      ]
     },
     "execution_count": 203,
     "metadata": {},
     "output_type": "execute_result"
    }
   ],
   "source": [
    "elem = browser.find_elements_by_xpath(url)\n",
    "[e.text for e in elem]"
   ]
  },
  {
   "cell_type": "code",
   "execution_count": 232,
   "metadata": {},
   "outputs": [],
   "source": [
    "elem = browser.find_elements_by_xpath(url)\n",
    "tweets7 =[e.text for e in elem]"
   ]
  },
  {
   "cell_type": "code",
   "execution_count": 218,
   "metadata": {},
   "outputs": [
    {
     "data": {
      "text/plain": [
       "['Joe Burridge retwitteó',\n",
       " 'Chainbrain',\n",
       " '@xChainbrain',\n",
       " '·',\n",
       " '12 nov.',\n",
       " 'I took the advice Twitch gave and muted my Rocksmith game audio',\n",
       " '',\n",
       " 'Sounds pretty good I think! You also get a more realistic sweaty metalhead experience!',\n",
       " '0:41',\n",
       " '146,6 mil reproducciones',\n",
       " '182',\n",
       " '2,3 mil',\n",
       " '8,9 mil',\n",
       " 'Mostrar este hilo']"
      ]
     },
     "execution_count": 218,
     "metadata": {},
     "output_type": "execute_result"
    }
   ],
   "source": [
    "elem[0].text.split('\\n')"
   ]
  },
  {
   "cell_type": "code",
   "execution_count": 230,
   "metadata": {},
   "outputs": [],
   "source": [
    "tweets = elem[1].text.split('\\n')"
   ]
  },
  {
   "cell_type": "code",
   "execution_count": 231,
   "metadata": {},
   "outputs": [
    {
     "name": "stdout",
     "output_type": "stream",
     "text": [
      "@mccrabb_will\n"
     ]
    }
   ],
   "source": [
    "for e in tweets:\n",
    "    if '@' in e:\n",
    "        print(e)"
   ]
  },
  {
   "cell_type": "code",
   "execution_count": 322,
   "metadata": {},
   "outputs": [
    {
     "ename": "WebDriverException",
     "evalue": "Message: Failed to decode response from marionette\n",
     "output_type": "error",
     "traceback": [
      "\u001b[0;31m--------------------------------------\u001b[0m",
      "\u001b[0;31mWebDriverException\u001b[0mTraceback (most recent call last)",
      "\u001b[0;32m<ipython-input-322-eaf9272ef84f>\u001b[0m in \u001b[0;36m<module>\u001b[0;34m\u001b[0m\n\u001b[0;32m----> 1\u001b[0;31m \u001b[0melem\u001b[0m\u001b[0;34m[\u001b[0m\u001b[0;36m1\u001b[0m\u001b[0;34m]\u001b[0m\u001b[0;34m.\u001b[0m\u001b[0mtext\u001b[0m\u001b[0;34m.\u001b[0m\u001b[0msplit\u001b[0m\u001b[0;34m(\u001b[0m\u001b[0;34m'\\n'\u001b[0m\u001b[0;34m)\u001b[0m\u001b[0;34m\u001b[0m\u001b[0;34m\u001b[0m\u001b[0m\n\u001b[0m",
      "\u001b[0;32m/usr/local/lib/python3.8/dist-packages/selenium/webdriver/remote/webelement.py\u001b[0m in \u001b[0;36mtext\u001b[0;34m(self)\u001b[0m\n\u001b[1;32m     74\u001b[0m     \u001b[0;32mdef\u001b[0m \u001b[0mtext\u001b[0m\u001b[0;34m(\u001b[0m\u001b[0mself\u001b[0m\u001b[0;34m)\u001b[0m\u001b[0;34m:\u001b[0m\u001b[0;34m\u001b[0m\u001b[0;34m\u001b[0m\u001b[0m\n\u001b[1;32m     75\u001b[0m         \u001b[0;34m\"\"\"The text of the element.\"\"\"\u001b[0m\u001b[0;34m\u001b[0m\u001b[0;34m\u001b[0m\u001b[0m\n\u001b[0;32m---> 76\u001b[0;31m         \u001b[0;32mreturn\u001b[0m \u001b[0mself\u001b[0m\u001b[0;34m.\u001b[0m\u001b[0m_execute\u001b[0m\u001b[0;34m(\u001b[0m\u001b[0mCommand\u001b[0m\u001b[0;34m.\u001b[0m\u001b[0mGET_ELEMENT_TEXT\u001b[0m\u001b[0;34m)\u001b[0m\u001b[0;34m[\u001b[0m\u001b[0;34m'value'\u001b[0m\u001b[0;34m]\u001b[0m\u001b[0;34m\u001b[0m\u001b[0;34m\u001b[0m\u001b[0m\n\u001b[0m\u001b[1;32m     77\u001b[0m \u001b[0;34m\u001b[0m\u001b[0m\n\u001b[1;32m     78\u001b[0m     \u001b[0;32mdef\u001b[0m \u001b[0mclick\u001b[0m\u001b[0;34m(\u001b[0m\u001b[0mself\u001b[0m\u001b[0;34m)\u001b[0m\u001b[0;34m:\u001b[0m\u001b[0;34m\u001b[0m\u001b[0;34m\u001b[0m\u001b[0m\n",
      "\u001b[0;32m/usr/local/lib/python3.8/dist-packages/selenium/webdriver/remote/webelement.py\u001b[0m in \u001b[0;36m_execute\u001b[0;34m(self, command, params)\u001b[0m\n\u001b[1;32m    631\u001b[0m             \u001b[0mparams\u001b[0m \u001b[0;34m=\u001b[0m \u001b[0;34m{\u001b[0m\u001b[0;34m}\u001b[0m\u001b[0;34m\u001b[0m\u001b[0;34m\u001b[0m\u001b[0m\n\u001b[1;32m    632\u001b[0m         \u001b[0mparams\u001b[0m\u001b[0;34m[\u001b[0m\u001b[0;34m'id'\u001b[0m\u001b[0;34m]\u001b[0m \u001b[0;34m=\u001b[0m \u001b[0mself\u001b[0m\u001b[0;34m.\u001b[0m\u001b[0m_id\u001b[0m\u001b[0;34m\u001b[0m\u001b[0;34m\u001b[0m\u001b[0m\n\u001b[0;32m--> 633\u001b[0;31m         \u001b[0;32mreturn\u001b[0m \u001b[0mself\u001b[0m\u001b[0;34m.\u001b[0m\u001b[0m_parent\u001b[0m\u001b[0;34m.\u001b[0m\u001b[0mexecute\u001b[0m\u001b[0;34m(\u001b[0m\u001b[0mcommand\u001b[0m\u001b[0;34m,\u001b[0m \u001b[0mparams\u001b[0m\u001b[0;34m)\u001b[0m\u001b[0;34m\u001b[0m\u001b[0;34m\u001b[0m\u001b[0m\n\u001b[0m\u001b[1;32m    634\u001b[0m \u001b[0;34m\u001b[0m\u001b[0m\n\u001b[1;32m    635\u001b[0m     \u001b[0;32mdef\u001b[0m \u001b[0mfind_element\u001b[0m\u001b[0;34m(\u001b[0m\u001b[0mself\u001b[0m\u001b[0;34m,\u001b[0m \u001b[0mby\u001b[0m\u001b[0;34m=\u001b[0m\u001b[0mBy\u001b[0m\u001b[0;34m.\u001b[0m\u001b[0mID\u001b[0m\u001b[0;34m,\u001b[0m \u001b[0mvalue\u001b[0m\u001b[0;34m=\u001b[0m\u001b[0;32mNone\u001b[0m\u001b[0;34m)\u001b[0m\u001b[0;34m:\u001b[0m\u001b[0;34m\u001b[0m\u001b[0;34m\u001b[0m\u001b[0m\n",
      "\u001b[0;32m/usr/local/lib/python3.8/dist-packages/selenium/webdriver/remote/webdriver.py\u001b[0m in \u001b[0;36mexecute\u001b[0;34m(self, driver_command, params)\u001b[0m\n\u001b[1;32m    319\u001b[0m         \u001b[0mresponse\u001b[0m \u001b[0;34m=\u001b[0m \u001b[0mself\u001b[0m\u001b[0;34m.\u001b[0m\u001b[0mcommand_executor\u001b[0m\u001b[0;34m.\u001b[0m\u001b[0mexecute\u001b[0m\u001b[0;34m(\u001b[0m\u001b[0mdriver_command\u001b[0m\u001b[0;34m,\u001b[0m \u001b[0mparams\u001b[0m\u001b[0;34m)\u001b[0m\u001b[0;34m\u001b[0m\u001b[0;34m\u001b[0m\u001b[0m\n\u001b[1;32m    320\u001b[0m         \u001b[0;32mif\u001b[0m \u001b[0mresponse\u001b[0m\u001b[0;34m:\u001b[0m\u001b[0;34m\u001b[0m\u001b[0;34m\u001b[0m\u001b[0m\n\u001b[0;32m--> 321\u001b[0;31m             \u001b[0mself\u001b[0m\u001b[0;34m.\u001b[0m\u001b[0merror_handler\u001b[0m\u001b[0;34m.\u001b[0m\u001b[0mcheck_response\u001b[0m\u001b[0;34m(\u001b[0m\u001b[0mresponse\u001b[0m\u001b[0;34m)\u001b[0m\u001b[0;34m\u001b[0m\u001b[0;34m\u001b[0m\u001b[0m\n\u001b[0m\u001b[1;32m    322\u001b[0m             response['value'] = self._unwrap_value(\n\u001b[1;32m    323\u001b[0m                 response.get('value', None))\n",
      "\u001b[0;32m/usr/local/lib/python3.8/dist-packages/selenium/webdriver/remote/errorhandler.py\u001b[0m in \u001b[0;36mcheck_response\u001b[0;34m(self, response)\u001b[0m\n\u001b[1;32m    240\u001b[0m                 \u001b[0malert_text\u001b[0m \u001b[0;34m=\u001b[0m \u001b[0mvalue\u001b[0m\u001b[0;34m[\u001b[0m\u001b[0;34m'alert'\u001b[0m\u001b[0;34m]\u001b[0m\u001b[0;34m.\u001b[0m\u001b[0mget\u001b[0m\u001b[0;34m(\u001b[0m\u001b[0;34m'text'\u001b[0m\u001b[0;34m)\u001b[0m\u001b[0;34m\u001b[0m\u001b[0;34m\u001b[0m\u001b[0m\n\u001b[1;32m    241\u001b[0m             \u001b[0;32mraise\u001b[0m \u001b[0mexception_class\u001b[0m\u001b[0;34m(\u001b[0m\u001b[0mmessage\u001b[0m\u001b[0;34m,\u001b[0m \u001b[0mscreen\u001b[0m\u001b[0;34m,\u001b[0m \u001b[0mstacktrace\u001b[0m\u001b[0;34m,\u001b[0m \u001b[0malert_text\u001b[0m\u001b[0;34m)\u001b[0m\u001b[0;34m\u001b[0m\u001b[0;34m\u001b[0m\u001b[0m\n\u001b[0;32m--> 242\u001b[0;31m         \u001b[0;32mraise\u001b[0m \u001b[0mexception_class\u001b[0m\u001b[0;34m(\u001b[0m\u001b[0mmessage\u001b[0m\u001b[0;34m,\u001b[0m \u001b[0mscreen\u001b[0m\u001b[0;34m,\u001b[0m \u001b[0mstacktrace\u001b[0m\u001b[0;34m)\u001b[0m\u001b[0;34m\u001b[0m\u001b[0;34m\u001b[0m\u001b[0m\n\u001b[0m\u001b[1;32m    243\u001b[0m \u001b[0;34m\u001b[0m\u001b[0m\n\u001b[1;32m    244\u001b[0m     \u001b[0;32mdef\u001b[0m \u001b[0m_value_or_default\u001b[0m\u001b[0;34m(\u001b[0m\u001b[0mself\u001b[0m\u001b[0;34m,\u001b[0m \u001b[0mobj\u001b[0m\u001b[0;34m,\u001b[0m \u001b[0mkey\u001b[0m\u001b[0;34m,\u001b[0m \u001b[0mdefault\u001b[0m\u001b[0;34m)\u001b[0m\u001b[0;34m:\u001b[0m\u001b[0;34m\u001b[0m\u001b[0;34m\u001b[0m\u001b[0m\n",
      "\u001b[0;31mWebDriverException\u001b[0m: Message: Failed to decode response from marionette\n"
     ]
    }
   ],
   "source": [
    "elem[1].text.split('\\n')"
   ]
  },
  {
   "cell_type": "code",
   "execution_count": 234,
   "metadata": {},
   "outputs": [
    {
     "ename": "AttributeError",
     "evalue": "'str' object has no attribute 'text'",
     "output_type": "error",
     "traceback": [
      "\u001b[0;31m--------------------------------------\u001b[0m",
      "\u001b[0;31mAttributeError\u001b[0mTraceback (most recent call last)",
      "\u001b[0;32m<ipython-input-234-f6d71e800099>\u001b[0m in \u001b[0;36m<module>\u001b[0;34m\u001b[0m\n\u001b[1;32m      1\u001b[0m \u001b[0;32mfor\u001b[0m \u001b[0mtweet\u001b[0m \u001b[0;32min\u001b[0m \u001b[0mtweets7\u001b[0m\u001b[0;34m:\u001b[0m\u001b[0;34m\u001b[0m\u001b[0;34m\u001b[0m\u001b[0m\n\u001b[0;32m----> 2\u001b[0;31m     \u001b[0mchuiquitun\u001b[0m \u001b[0;34m=\u001b[0m \u001b[0mtweet\u001b[0m\u001b[0;34m.\u001b[0m\u001b[0mtext\u001b[0m\u001b[0;34m.\u001b[0m\u001b[0msplit\u001b[0m\u001b[0;34m(\u001b[0m\u001b[0;34m'\\n'\u001b[0m\u001b[0;34m)\u001b[0m\u001b[0;34m\u001b[0m\u001b[0;34m\u001b[0m\u001b[0m\n\u001b[0m\u001b[1;32m      3\u001b[0m     \u001b[0;32mfor\u001b[0m \u001b[0me\u001b[0m \u001b[0;32min\u001b[0m \u001b[0mchuiquitun\u001b[0m\u001b[0;34m:\u001b[0m\u001b[0;34m\u001b[0m\u001b[0;34m\u001b[0m\u001b[0m\n\u001b[1;32m      4\u001b[0m         \u001b[0;32mif\u001b[0m \u001b[0;34m'@'\u001b[0m \u001b[0;32min\u001b[0m \u001b[0me\u001b[0m\u001b[0;34m:\u001b[0m\u001b[0;34m\u001b[0m\u001b[0;34m\u001b[0m\u001b[0m\n\u001b[1;32m      5\u001b[0m             \u001b[0mprint\u001b[0m\u001b[0;34m(\u001b[0m\u001b[0me\u001b[0m\u001b[0;34m)\u001b[0m\u001b[0;34m\u001b[0m\u001b[0;34m\u001b[0m\u001b[0m\n",
      "\u001b[0;31mAttributeError\u001b[0m: 'str' object has no attribute 'text'"
     ]
    }
   ],
   "source": [
    "for tweet in tweets7:\n",
    "    chuiquitun = tweet.text.split('\\n')\n",
    "    for e in chuiquitun:\n",
    "        if '@' in e:\n",
    "            print(e)"
   ]
  },
  {
   "cell_type": "code",
   "execution_count": 250,
   "metadata": {},
   "outputs": [
    {
     "name": "stdout",
     "output_type": "stream",
     "text": [
      "@xChainbrain\n",
      "@mccrabb_will\n",
      "@TheEconomist\n",
      "@lyssaslounge\n",
      "@odsc\n",
      "@donwinslow\n",
      "@CulturaColectiv\n"
     ]
    }
   ],
   "source": [
    "for tweet in tweets7:\n",
    "    atributos = tweet.split('\\n')\n",
    "    cnt = 0\n",
    "    for atr in atributos:\n",
    "        if '@' in atr:\n",
    "            if cnt < 4:\n",
    "                print(atr)\n",
    "        cnt = cnt + 1"
   ]
  },
  {
   "cell_type": "code",
   "execution_count": 291,
   "metadata": {},
   "outputs": [
    {
     "name": "stdout",
     "output_type": "stream",
     "text": [
      "B\n",
      "n\n",
      "a\n"
     ]
    },
    {
     "ename": "IndexError",
     "evalue": "string index out of range",
     "output_type": "error",
     "traceback": [
      "\u001b[0;31m--------------------------------------\u001b[0m",
      "\u001b[0;31mIndexError\u001b[0mTraceback (most recent call last)",
      "\u001b[0;32m<ipython-input-291-c25113ebf493>\u001b[0m in \u001b[0;36m<module>\u001b[0;34m\u001b[0m\n\u001b[1;32m     10\u001b[0m             \u001b[0mprint\u001b[0m\u001b[0;34m(\u001b[0m\u001b[0matr\u001b[0m\u001b[0;34m[\u001b[0m\u001b[0;36m5\u001b[0m\u001b[0;34m]\u001b[0m\u001b[0;34m)\u001b[0m\u001b[0;34m\u001b[0m\u001b[0;34m\u001b[0m\u001b[0m\n\u001b[1;32m     11\u001b[0m         \u001b[0;32melse\u001b[0m\u001b[0;34m:\u001b[0m\u001b[0;34m\u001b[0m\u001b[0;34m\u001b[0m\u001b[0m\n\u001b[0;32m---> 12\u001b[0;31m             \u001b[0mprint\u001b[0m\u001b[0;34m(\u001b[0m\u001b[0matr\u001b[0m\u001b[0;34m[\u001b[0m\u001b[0;36m4\u001b[0m\u001b[0;34m]\u001b[0m\u001b[0;34m)\u001b[0m\u001b[0;34m\u001b[0m\u001b[0;34m\u001b[0m\u001b[0m\n\u001b[0m",
      "\u001b[0;31mIndexError\u001b[0m: string index out of range"
     ]
    }
   ],
   "source": [
    "tuplaTweets =[]\n",
    "fechas =  []\n",
    "for tweet in tweets7:\n",
    "\n",
    "    atributos = tweet.split('\\n')\n",
    "    cnt = 0\n",
    "    \n",
    "    for atr in atributos:\n",
    "        if 'retwitteó' in atr[:4]:\n",
    "            print(atr[5])\n",
    "        else:\n",
    "            print(atr[4])"
   ]
  },
  {
   "cell_type": "code",
   "execution_count": 292,
   "metadata": {},
   "outputs": [
    {
     "ename": "IndexError",
     "evalue": "string index out of range",
     "output_type": "error",
     "traceback": [
      "\u001b[0;31m--------------------------------------\u001b[0m",
      "\u001b[0;31mIndexError\u001b[0mTraceback (most recent call last)",
      "\u001b[0;32m<ipython-input-292-76e159c6fb67>\u001b[0m in \u001b[0;36m<module>\u001b[0;34m\u001b[0m\n\u001b[1;32m      4\u001b[0m     \u001b[0matributos\u001b[0m \u001b[0;34m=\u001b[0m \u001b[0mtweet\u001b[0m\u001b[0;34m.\u001b[0m\u001b[0msplit\u001b[0m\u001b[0;34m(\u001b[0m\u001b[0;34m'\\n'\u001b[0m\u001b[0;34m)\u001b[0m\u001b[0;34m\u001b[0m\u001b[0;34m\u001b[0m\u001b[0m\n\u001b[1;32m      5\u001b[0m     \u001b[0;32mfor\u001b[0m \u001b[0me\u001b[0m \u001b[0;32min\u001b[0m \u001b[0mrange\u001b[0m\u001b[0;34m(\u001b[0m\u001b[0mlen\u001b[0m\u001b[0;34m(\u001b[0m\u001b[0matributos\u001b[0m\u001b[0;34m)\u001b[0m\u001b[0;34m)\u001b[0m\u001b[0;34m:\u001b[0m\u001b[0;34m\u001b[0m\u001b[0;34m\u001b[0m\u001b[0m\n\u001b[0;32m----> 6\u001b[0;31m         \u001b[0;32mif\u001b[0m \u001b[0;34m'retwitteó'\u001b[0m \u001b[0;32min\u001b[0m \u001b[0matributos\u001b[0m\u001b[0;34m[\u001b[0m\u001b[0me\u001b[0m\u001b[0;34m]\u001b[0m\u001b[0;34m[\u001b[0m\u001b[0;36m1\u001b[0m\u001b[0;34m]\u001b[0m\u001b[0;34m:\u001b[0m\u001b[0;34m\u001b[0m\u001b[0;34m\u001b[0m\u001b[0m\n\u001b[0m\u001b[1;32m      7\u001b[0m             \u001b[0mprint\u001b[0m\u001b[0;34m(\u001b[0m\u001b[0matributos\u001b[0m\u001b[0;34m[\u001b[0m\u001b[0me\u001b[0m\u001b[0;34m]\u001b[0m\u001b[0;34m)\u001b[0m\u001b[0;34m\u001b[0m\u001b[0;34m\u001b[0m\u001b[0m\n",
      "\u001b[0;31mIndexError\u001b[0m: string index out of range"
     ]
    }
   ],
   "source": [
    "tuplaTweets =[]\n",
    "fechas =  []\n",
    "for tweet in tweets7:\n",
    "    atributos = tweet.split('\\n')\n",
    "    for e in range(len(atributos)):\n",
    "        if 'retwitteó' in atributos[e][1]:\n",
    "            print(atributos[e])"
   ]
  },
  {
   "cell_type": "code",
   "execution_count": 281,
   "metadata": {},
   "outputs": [
    {
     "data": {
      "text/plain": [
       "True"
      ]
     },
     "execution_count": 281,
     "metadata": {},
     "output_type": "execute_result"
    }
   ],
   "source": [
    "'retwitteó' in \n"
   ]
  },
  {
   "cell_type": "raw",
   "metadata": {},
   "source": [
    "("
   ]
  },
  {
   "cell_type": "code",
   "execution_count": 290,
   "metadata": {},
   "outputs": [
    {
     "name": "stdout",
     "output_type": "stream",
     "text": [
      "12 nov.\n"
     ]
    }
   ],
   "source": [
    "print(atributos[4])"
   ]
  },
  {
   "cell_type": "code",
   "execution_count": null,
   "metadata": {},
   "outputs": [],
   "source": []
  },
  {
   "cell_type": "code",
   "execution_count": 288,
   "metadata": {},
   "outputs": [
    {
     "name": "stdout",
     "output_type": "stream",
     "text": [
      "['Don Winslow retwitteó', 'Katharina Borchert', '@lyssaslounge', '·', '8min', 'This is an excellent thread about the dangerous failure of Sweden‘s herd immunity #COVID19 strategy. (Looking at you, Trumpists.)', 'Eric Feigl-Ding', '@DrEricDing', ' · 8h', 'Sweden’s ', ' pro-herd govt official Tegnk was DEAD wrong. With deadly consequences. He predicted Sweden’s spring wave would prevent 2nd #COVID19 fall/winter wave. He was ‘Scott Atlas-wrong’. “Herd immunity” arrogance costs lives. How arrogant was Tegnell?', ' https://businessinsider.com/sweden-herd-immunity-second-wave-coronavirus-cases-hospitalisations-surge-2020-11…', 'Mostrar este hilo', '12', '180', '405']\n"
     ]
    }
   ],
   "source": [
    "print(tweets7[3].split('\\n'))"
   ]
  },
  {
   "cell_type": "code",
   "execution_count": 304,
   "metadata": {},
   "outputs": [
    {
     "name": "stdout",
     "output_type": "stream",
     "text": [
      "12 nov.\n",
      "29 oct.\n",
      "8min\n",
      "['12 nov.', '29 oct.', '3min', '8min', '9min', '9min', '14min']\n",
      "['@xChainbrain', '@mccrabb_will', '@TheEconomist', '@lyssaslounge', '@odsc', '@donwinslow', '@CulturaColectiv']\n"
     ]
    }
   ],
   "source": [
    "tuplaTweets =[]\n",
    "fechas =  []\n",
    "autor = []\n",
    "contenido = []\n",
    "cnt = 0\n",
    "for tweet in tweets7:\n",
    "    atributos = tweet.split('\\n')\n",
    "    if 'retwitteó' in atributos[cnt]:\n",
    "        print(atributos[4])\n",
    "        autor.append(atributos[2])\n",
    "        fechas.append(atributos[4])\n",
    "    else:\n",
    "        fechas.append(atributos[3])\n",
    "        autor.append(atributos[1])\n",
    "        \n",
    "print(fechas)\n",
    "print(autor)\n",
    "\n"
   ]
  },
  {
   "cell_type": "code",
   "execution_count": 310,
   "metadata": {},
   "outputs": [
    {
     "data": {
      "text/html": [
       "<div>\n",
       "<style scoped>\n",
       "    .dataframe tbody tr th:only-of-type {\n",
       "        vertical-align: middle;\n",
       "    }\n",
       "\n",
       "    .dataframe tbody tr th {\n",
       "        vertical-align: top;\n",
       "    }\n",
       "\n",
       "    .dataframe thead th {\n",
       "        text-align: right;\n",
       "    }\n",
       "</style>\n",
       "<table border=\"1\" class=\"dataframe\">\n",
       "  <thead>\n",
       "    <tr style=\"text-align: right;\">\n",
       "      <th></th>\n",
       "      <th>0</th>\n",
       "      <th>1</th>\n",
       "    </tr>\n",
       "  </thead>\n",
       "  <tbody>\n",
       "    <tr>\n",
       "      <th>0</th>\n",
       "      <td>12 nov.</td>\n",
       "      <td>@xChainbrain</td>\n",
       "    </tr>\n",
       "    <tr>\n",
       "      <th>1</th>\n",
       "      <td>29 oct.</td>\n",
       "      <td>@mccrabb_will</td>\n",
       "    </tr>\n",
       "    <tr>\n",
       "      <th>2</th>\n",
       "      <td>3min</td>\n",
       "      <td>@TheEconomist</td>\n",
       "    </tr>\n",
       "    <tr>\n",
       "      <th>3</th>\n",
       "      <td>8min</td>\n",
       "      <td>@lyssaslounge</td>\n",
       "    </tr>\n",
       "    <tr>\n",
       "      <th>4</th>\n",
       "      <td>9min</td>\n",
       "      <td>@odsc</td>\n",
       "    </tr>\n",
       "    <tr>\n",
       "      <th>5</th>\n",
       "      <td>9min</td>\n",
       "      <td>@donwinslow</td>\n",
       "    </tr>\n",
       "    <tr>\n",
       "      <th>6</th>\n",
       "      <td>14min</td>\n",
       "      <td>@CulturaColectiv</td>\n",
       "    </tr>\n",
       "  </tbody>\n",
       "</table>\n",
       "</div>"
      ],
      "text/plain": [
       "         0                 1\n",
       "0  12 nov.      @xChainbrain\n",
       "1  29 oct.     @mccrabb_will\n",
       "2     3min     @TheEconomist\n",
       "3     8min     @lyssaslounge\n",
       "4     9min             @odsc\n",
       "5     9min       @donwinslow\n",
       "6    14min  @CulturaColectiv"
      ]
     },
     "execution_count": 310,
     "metadata": {},
     "output_type": "execute_result"
    }
   ],
   "source": [
    "import pandas as pd\n",
    "cols = ['fecha', 'autor']\n",
    "tabla = pd.DataFrame([fechas,autor]).T\n",
    "tabla"
   ]
  },
  {
   "cell_type": "code",
   "execution_count": 316,
   "metadata": {},
   "outputs": [
    {
     "name": "stdout",
     "output_type": "stream",
     "text": [
      "12 nov.\n",
      "29 oct.\n",
      "8min\n",
      "['12 nov.', '29 oct.', '3min', '8min', '9min', '9min', '14min']\n",
      "['@xChainbrain', '@mccrabb_will', '@TheEconomist', '@lyssaslounge', '@odsc', '@donwinslow', '@CulturaColectiv']\n",
      "['I took the advice Twitch gave and muted my Rocksmith game audio', 'The ending of Raiders of the Lost Ark', \"Americans' tendency to sort themselves into politically like-minded communities has two major consequences\", 'This is an excellent thread about the dangerous failure of Sweden‘s herd immunity #COVID19 strategy. (Looking at you, Trumpists.)', 'ODSC APAC 2020 Virtual Conference Keynote Speaker: https://hubs.ly/H0zrVz10 #ODSCAPAC #ODSCVirtual ', 'Trump Has Reportedly Been Asking About Pardons for Himself, His Family, and More https://complex.com/life/2020/11/trump-has-been-asking-about-pardons-for-himself-his-family?soc_src=social-sh&soc_trk=tw&tsrc=twtr… via ', '¿Quieres ser parte de la primera #PijamadaCCLifestyle?  ']\n"
     ]
    }
   ],
   "source": [
    "cols = ['fecha', 'autor', 'contenido']\n",
    "tuplaTweets =[]\n",
    "fechas =  []\n",
    "autor = []\n",
    "contenido = []\n",
    "cnt = 0\n",
    "for tweet in tweets7:\n",
    "    atributos = tweet.split('\\n')\n",
    "    if 'retwitteó' in atributos[cnt]:\n",
    "        print(atributos[4])\n",
    "        autor.append(atributos[2])\n",
    "        fechas.append(atributos[4])\n",
    "        contenido.append(atributos[5])\n",
    "    else:\n",
    "        fechas.append(atributos[3])\n",
    "        autor.append(atributos[1])\n",
    "        contenido.append(atributos[4])\n",
    "\n",
    "        \n",
    "        \n",
    "print(fechas)\n",
    "print(autor)\n",
    "print(contenido)\n",
    "\n"
   ]
  },
  {
   "cell_type": "code",
   "execution_count": 320,
   "metadata": {},
   "outputs": [
    {
     "data": {
      "text/html": [
       "<div>\n",
       "<style scoped>\n",
       "    .dataframe tbody tr th:only-of-type {\n",
       "        vertical-align: middle;\n",
       "    }\n",
       "\n",
       "    .dataframe tbody tr th {\n",
       "        vertical-align: top;\n",
       "    }\n",
       "\n",
       "    .dataframe thead th {\n",
       "        text-align: right;\n",
       "    }\n",
       "</style>\n",
       "<table border=\"1\" class=\"dataframe\">\n",
       "  <thead>\n",
       "    <tr style=\"text-align: right;\">\n",
       "      <th></th>\n",
       "      <th>fecha</th>\n",
       "      <th>autor</th>\n",
       "      <th>contenido</th>\n",
       "    </tr>\n",
       "  </thead>\n",
       "  <tbody>\n",
       "    <tr>\n",
       "      <th>0</th>\n",
       "      <td>12 nov.</td>\n",
       "      <td>@xChainbrain</td>\n",
       "      <td>I took the advice Twitch gave and muted my Roc...</td>\n",
       "    </tr>\n",
       "    <tr>\n",
       "      <th>1</th>\n",
       "      <td>29 oct.</td>\n",
       "      <td>@mccrabb_will</td>\n",
       "      <td>The ending of Raiders of the Lost Ark</td>\n",
       "    </tr>\n",
       "    <tr>\n",
       "      <th>2</th>\n",
       "      <td>3min</td>\n",
       "      <td>@TheEconomist</td>\n",
       "      <td>Americans' tendency to sort themselves into po...</td>\n",
       "    </tr>\n",
       "    <tr>\n",
       "      <th>3</th>\n",
       "      <td>8min</td>\n",
       "      <td>@lyssaslounge</td>\n",
       "      <td>This is an excellent thread about the dangerou...</td>\n",
       "    </tr>\n",
       "    <tr>\n",
       "      <th>4</th>\n",
       "      <td>9min</td>\n",
       "      <td>@odsc</td>\n",
       "      <td>ODSC APAC 2020 Virtual Conference Keynote Spea...</td>\n",
       "    </tr>\n",
       "    <tr>\n",
       "      <th>5</th>\n",
       "      <td>9min</td>\n",
       "      <td>@donwinslow</td>\n",
       "      <td>Trump Has Reportedly Been Asking About Pardons...</td>\n",
       "    </tr>\n",
       "    <tr>\n",
       "      <th>6</th>\n",
       "      <td>14min</td>\n",
       "      <td>@CulturaColectiv</td>\n",
       "      <td>¿Quieres ser parte de la primera #PijamadaCCLi...</td>\n",
       "    </tr>\n",
       "  </tbody>\n",
       "</table>\n",
       "</div>"
      ],
      "text/plain": [
       "     fecha             autor  \\\n",
       "0  12 nov.      @xChainbrain   \n",
       "1  29 oct.     @mccrabb_will   \n",
       "2     3min     @TheEconomist   \n",
       "3     8min     @lyssaslounge   \n",
       "4     9min             @odsc   \n",
       "5     9min       @donwinslow   \n",
       "6    14min  @CulturaColectiv   \n",
       "\n",
       "                                           contenido  \n",
       "0  I took the advice Twitch gave and muted my Roc...  \n",
       "1              The ending of Raiders of the Lost Ark  \n",
       "2  Americans' tendency to sort themselves into po...  \n",
       "3  This is an excellent thread about the dangerou...  \n",
       "4  ODSC APAC 2020 Virtual Conference Keynote Spea...  \n",
       "5  Trump Has Reportedly Been Asking About Pardons...  \n",
       "6  ¿Quieres ser parte de la primera #PijamadaCCLi...  "
      ]
     },
     "execution_count": 320,
     "metadata": {},
     "output_type": "execute_result"
    }
   ],
   "source": [
    "tabla = pd.DataFrame([fechas, autor, contenido]).T\n",
    "tabla.columns = cols\n",
    "tabla"
   ]
  },
  {
   "cell_type": "code",
   "execution_count": 328,
   "metadata": {},
   "outputs": [
    {
     "data": {
      "text/plain": [
       "'Don Winslow\\n@donwinslow\\n·\\n9min\\nTrump Has Reportedly Been Asking About Pardons for Himself, His Family, and More https://complex.com/life/2020/11/trump-has-been-asking-about-pardons-for-himself-his-family?soc_src=social-sh&soc_trk=tw&tsrc=twtr… via \\n@Yahoo\\nTrump Has Reportedly Been Asking About Pardons for Himself, His Family, and More\\nThe idea of Donald J. Trump pardoning himself, however, is not a constitutionally supported idea. But we should know by now that such a thing rarely stops him.\\ncomplex.com\\n135\\n235\\n662'"
      ]
     },
     "execution_count": 328,
     "metadata": {},
     "output_type": "execute_result"
    }
   ],
   "source": [
    "tweets7[5]"
   ]
  },
  {
   "cell_type": "code",
   "execution_count": null,
   "metadata": {},
   "outputs": [],
   "source": [
    "/html/body/div/div/div/div[2]/main/div/div/div/div[1]/div/div[4]/div/div/section/div/div/div[5]/div/div/article/div/div/div/div[2]/div[2]/div[1]/div/div/div[1]/div[1]/a/div/div[1]/div[1]/span/span"
   ]
  }
 ],
 "metadata": {
  "kernelspec": {
   "display_name": "Python 3",
   "language": "python",
   "name": "python3"
  },
  "language_info": {
   "codemirror_mode": {
    "name": "ipython",
    "version": 3
   },
   "file_extension": ".py",
   "mimetype": "text/x-python",
   "name": "python",
   "nbconvert_exporter": "python",
   "pygments_lexer": "ipython3",
   "version": "3.8.5"
  }
 },
 "nbformat": 4,
 "nbformat_minor": 4
}
