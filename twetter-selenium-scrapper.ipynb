{
 "cells": [
  {
   "cell_type": "code",
   "execution_count": 1,
   "metadata": {},
   "outputs": [],
   "source": [
    "from selenium import webdriver\n",
    "from selenium.webdriver.common.keys import Keys"
   ]
  },
  {
   "cell_type": "markdown",
   "metadata": {},
   "source": [
    "Setup the login page"
   ]
  },
  {
   "cell_type": "code",
   "execution_count": 2,
   "metadata": {},
   "outputs": [],
   "source": [
    "url = 'https://twitter.com/home'"
   ]
  },
  {
   "cell_type": "markdown",
   "metadata": {},
   "source": [
    "Setup username and password for login"
   ]
  },
  {
   "cell_type": "code",
   "execution_count": 3,
   "metadata": {},
   "outputs": [],
   "source": [
    "usr = \"\"\n",
    "pwd = \"\""
   ]
  },
  {
   "cell_type": "code",
   "execution_count": 4,
   "metadata": {},
   "outputs": [],
   "source": [
    "browser = webdriver.Firefox()\n",
    "browser.get(url)\n",
    "# wait until loaded"
   ]
  },
  {
   "cell_type": "code",
   "execution_count": 5,
   "metadata": {},
   "outputs": [],
   "source": [
    "assert \"Login on Twitter\" in browser.title"
   ]
  },
  {
   "cell_type": "code",
   "execution_count": 6,
   "metadata": {},
   "outputs": [],
   "source": [
    "username = browser.find_element_by_xpath(\"/html/body/div/div/div/div[2]/main/div/div/div[1]/form/div/div[1]/label/div/div[2]/div/input\")\n",
    "password = browser.find_element_by_xpath(\"/html/body/div/div/div/div[2]/main/div/div/div[1]/form/div/div[2]/label/div/div[2]/div/input\")\n",
    "username.send_keys(usr)\n",
    "password.send_keys(pwd)"
   ]
  },
  {
   "cell_type": "code",
   "execution_count": 7,
   "metadata": {},
   "outputs": [],
   "source": [
    "\n",
    "password.send_keys(Keys.RETURN)"
   ]
  },
  {
   "cell_type": "code",
   "execution_count": 8,
   "metadata": {},
   "outputs": [],
   "source": [
    "assert \"Inicio\" in browser.title"
   ]
  },
  {
   "cell_type": "code",
   "execution_count": 9,
   "metadata": {},
   "outputs": [],
   "source": [
    "url = '//article'\n",
    "elements = browser.find_elements_by_xpath(url)"
   ]
  },
  {
   "cell_type": "code",
   "execution_count": 10,
   "metadata": {},
   "outputs": [
    {
     "data": {
      "text/plain": [
       "8"
      ]
     },
     "execution_count": 10,
     "metadata": {},
     "output_type": "execute_result"
    }
   ],
   "source": [
    "len(elements)"
   ]
  },
  {
   "cell_type": "code",
   "execution_count": 11,
   "metadata": {},
   "outputs": [],
   "source": [
    "tweets = [e.text for e in elements]"
   ]
  },
  {
   "cell_type": "code",
   "execution_count": null,
   "metadata": {},
   "outputs": [],
   "source": []
  },
  {
   "cell_type": "code",
   "execution_count": 13,
   "metadata": {},
   "outputs": [
    {
     "name": "stdout",
     "output_type": "stream",
     "text": [
      "['6min', '50 personas que están teniendo un día peor que el tuyo', '8min', '@ChampsPao', '2min', '3min', '21min', '5h'] \n",
      "\n",
      "['@ChumelTorres', '@Kueez1', '@realpython', ' respondió', '@mayelors', '@AristeguiOnline', '@AcademicsSay', '@bartije'] \n",
      "\n",
      "['No pueden con un avión…', 'kueez.com', ' Python Variables Quiz ', '·', 'Tqm', 'Marina adopta a perrito rescatado en inundaciones de Tabasco | Video  http://ow.ly/UvSV30rkkXp', 'I WILL ACCOMPLISH MY WRITING GOALS THIS SEMESTER', 'Una razón más para leer a '] \n",
      "\n"
     ]
    }
   ],
   "source": [
    "cols = ['fecha', 'autor', 'contenido']\n",
    "tuplaTweets =[]\n",
    "fechas =  []\n",
    "autor = []\n",
    "contenido = []\n",
    "\n",
    "for tweet in tweets:\n",
    "    atributos = tweet.split('\\n')\n",
    "    if 'retwitteó' in atributos[0]:\n",
    "        autor.append(atributos[2])\n",
    "        fechas.append(atributos[4])\n",
    "        contenido.append(atributos[5])\n",
    "    else:\n",
    "        fechas.append(atributos[3])\n",
    "        autor.append(atributos[1])\n",
    "        contenido.append(atributos[4])\n",
    "\n",
    "        \n",
    "        \n",
    "print(fechas, '\\n')\n",
    "print(autor, '\\n')\n",
    "print(contenido, '\\n')\n"
   ]
  },
  {
   "cell_type": "code",
   "execution_count": null,
   "metadata": {},
   "outputs": [],
   "source": []
  },
  {
   "cell_type": "code",
   "execution_count": null,
   "metadata": {},
   "outputs": [],
   "source": []
  },
  {
   "cell_type": "code",
   "execution_count": 19,
   "metadata": {},
   "outputs": [],
   "source": [
    "browser.quit()"
   ]
  },
  {
   "cell_type": "code",
   "execution_count": null,
   "metadata": {},
   "outputs": [],
   "source": []
  }
 ],
 "metadata": {
  "kernelspec": {
   "display_name": "Python 3",
   "language": "python",
   "name": "python3"
  },
  "language_info": {
   "codemirror_mode": {
    "name": "ipython",
    "version": 3
   },
   "file_extension": ".py",
   "mimetype": "text/x-python",
   "name": "python",
   "nbconvert_exporter": "python",
   "pygments_lexer": "ipython3",
   "version": "3.8.5"
  }
 },
 "nbformat": 4,
 "nbformat_minor": 4
}
